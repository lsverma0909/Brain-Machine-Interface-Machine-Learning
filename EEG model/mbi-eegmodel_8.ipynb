{
 "cells": [
  {
   "cell_type": "code",
   "execution_count": 1,
   "id": "44268ebb",
   "metadata": {
    "execution": {
     "iopub.execute_input": "2024-03-12T06:40:31.506023Z",
     "iopub.status.busy": "2024-03-12T06:40:31.505754Z",
     "iopub.status.idle": "2024-03-12T06:40:43.728648Z",
     "shell.execute_reply": "2024-03-12T06:40:43.727588Z"
    },
    "id": "faSd8_sTLvKE",
    "papermill": {
     "duration": 12.235428,
     "end_time": "2024-03-12T06:40:43.731186",
     "exception": false,
     "start_time": "2024-03-12T06:40:31.495758",
     "status": "completed"
    },
    "tags": []
   },
   "outputs": [
    {
     "name": "stderr",
     "output_type": "stream",
     "text": [
      "2024-03-12 06:40:33.319968: E external/local_xla/xla/stream_executor/cuda/cuda_dnn.cc:9261] Unable to register cuDNN factory: Attempting to register factory for plugin cuDNN when one has already been registered\n",
      "2024-03-12 06:40:33.320071: E external/local_xla/xla/stream_executor/cuda/cuda_fft.cc:607] Unable to register cuFFT factory: Attempting to register factory for plugin cuFFT when one has already been registered\n",
      "2024-03-12 06:40:33.449945: E external/local_xla/xla/stream_executor/cuda/cuda_blas.cc:1515] Unable to register cuBLAS factory: Attempting to register factory for plugin cuBLAS when one has already been registered\n"
     ]
    }
   ],
   "source": [
    "import keras"
   ]
  },
  {
   "cell_type": "markdown",
   "id": "470acd33",
   "metadata": {
    "id": "BAbUeGQKufgp",
    "papermill": {
     "duration": 0.00912,
     "end_time": "2024-03-12T06:40:43.749712",
     "exception": false,
     "start_time": "2024-03-12T06:40:43.740592",
     "status": "completed"
    },
    "tags": []
   },
   "source": [
    "### Read in data in .mat format"
   ]
  },
  {
   "cell_type": "code",
   "execution_count": 2,
   "id": "95a5a7e7",
   "metadata": {
    "execution": {
     "iopub.execute_input": "2024-03-12T06:40:43.769879Z",
     "iopub.status.busy": "2024-03-12T06:40:43.768582Z",
     "iopub.status.idle": "2024-03-12T06:40:43.823643Z",
     "shell.execute_reply": "2024-03-12T06:40:43.822709Z"
    },
    "id": "RYGIeVn0NN2E",
    "papermill": {
     "duration": 0.067073,
     "end_time": "2024-03-12T06:40:43.825797",
     "exception": false,
     "start_time": "2024-03-12T06:40:43.758724",
     "status": "completed"
    },
    "tags": []
   },
   "outputs": [],
   "source": [
    "import scipy.io as sio\n",
    "import matplotlib.pyplot as plt"
   ]
  },
  {
   "cell_type": "markdown",
   "id": "e738b367",
   "metadata": {
    "id": "NgJy6fAbQVZ6",
    "papermill": {
     "duration": 0.008535,
     "end_time": "2024-03-12T06:40:43.843191",
     "exception": false,
     "start_time": "2024-03-12T06:40:43.834656",
     "status": "completed"
    },
    "tags": []
   },
   "source": [
    "#### Load All subjects' data"
   ]
  },
  {
   "cell_type": "code",
   "execution_count": 3,
   "id": "40c7fbb9",
   "metadata": {
    "execution": {
     "iopub.execute_input": "2024-03-12T06:40:43.861619Z",
     "iopub.status.busy": "2024-03-12T06:40:43.861334Z",
     "iopub.status.idle": "2024-03-12T06:42:25.477830Z",
     "shell.execute_reply": "2024-03-12T06:42:25.476889Z"
    },
    "id": "9jYFCUhTwQxK",
    "outputId": "86220268-a2a9-4d95-92f1-6440cf7ef18a",
    "papermill": {
     "duration": 101.636389,
     "end_time": "2024-03-12T06:42:25.488276",
     "exception": false,
     "start_time": "2024-03-12T06:40:43.851887",
     "status": "completed"
    },
    "tags": []
   },
   "outputs": [
    {
     "data": {
      "text/plain": [
       "dict_keys(['__header__', '__version__', '__globals__', 'eeg'])"
      ]
     },
     "execution_count": 3,
     "metadata": {},
     "output_type": "execute_result"
    }
   ],
   "source": [
    "s01 = sio.loadmat('/kaggle/input/GIGA_MI_ME/s01.mat')\n",
    "s12 = sio.loadmat('/kaggle/input/GIGA_MI_ME/s12.mat')\n",
    "s13 = sio.loadmat('/kaggle/input/GIGA_MI_ME/s13.mat')\n",
    "s03 = sio.loadmat('/kaggle/input/GIGA_MI_ME/s03.mat')\n",
    "s14 = sio.loadmat('/kaggle/input/GIGA_MI_ME/s14.mat')\n",
    "s32 = sio.loadmat('/kaggle/input/GIGA_MI_ME/s32.mat')\n",
    "s40 = sio.loadmat('/kaggle/input/GIGA_MI_ME/s40.mat')\n",
    "s41 = sio.loadmat('/kaggle/input/GIGA_MI_ME/s41.mat')\n",
    "s49 = sio.loadmat('/kaggle/input/GIGA_MI_ME/s49.mat')\n",
    "s47 = sio.loadmat('/kaggle/input/GIGA_MI_ME/s47.mat')\n",
    "#3/14:\n",
    "# s29 = sio.loadmat('/kaggle/input/GIGA_MI_ME/s29.mat')\n",
    "s30 = sio.loadmat('/kaggle/input/GIGA_MI_ME/s30.mat')\n",
    "s31 = sio.loadmat('/kaggle/input/GIGA_MI_ME/s31.mat')\n",
    "s33 = sio.loadmat('/kaggle/input/GIGA_MI_ME/s33.mat')\n",
    "# s34 = sio.loadmat('/content/drive/My Drive/eeg dataset/3:14/s34.mat') bad subject\n",
    "s35 = sio.loadmat('/kaggle/input/GIGA_MI_ME/s35.mat')\n",
    "s36 = sio.loadmat('/kaggle/input/GIGA_MI_ME/s36.mat')\n",
    "s37 = sio.loadmat('/kaggle/input/GIGA_MI_ME/s37.mat')\n",
    "s38 = sio.loadmat('/kaggle/input/GIGA_MI_ME/s38.mat')\n",
    "s39 = sio.loadmat('/kaggle/input/GIGA_MI_ME/s39.mat')\n",
    "s42 = sio.loadmat('/kaggle/input/GIGA_MI_ME/s42.mat')\n",
    "s43 = sio.loadmat('/kaggle/input/GIGA_MI_ME/s43.mat')\n",
    "s44 = sio.loadmat('/kaggle/input/GIGA_MI_ME/s44.mat')\n",
    "s45 = sio.loadmat('/kaggle/input/GIGA_MI_ME/s45.mat')\n",
    "s46 = sio.loadmat('/kaggle/input/GIGA_MI_ME/s46.mat')\n",
    "s48 = sio.loadmat('/kaggle/input/GIGA_MI_ME/s48.mat')\n",
    "s50 = sio.loadmat('/kaggle/input/GIGA_MI_ME/s50.mat')\n",
    "s51 = sio.loadmat('/kaggle/input/GIGA_MI_ME/s51.mat')\n",
    "s52 = sio.loadmat('/kaggle/input/GIGA_MI_ME/s52.mat')\n",
    "# s29 = sio.loadmat('/content/drive/My Drive/eeg dataset/03:09/s02.mat') bad subject\n",
    "s01.keys()\n"
   ]
  },
  {
   "cell_type": "code",
   "execution_count": 5,
   "id": "b0af55a1",
   "metadata": {
    "execution": {
     "iopub.execute_input": "2024-03-12T06:42:25.532064Z",
     "iopub.status.busy": "2024-03-12T06:42:25.531768Z",
     "iopub.status.idle": "2024-03-12T06:42:25.539477Z",
     "shell.execute_reply": "2024-03-12T06:42:25.538656Z"
    },
    "id": "DIoIKPXOveuR",
    "papermill": {
     "duration": 0.018948,
     "end_time": "2024-03-12T06:42:25.541308",
     "exception": false,
     "start_time": "2024-03-12T06:42:25.522360",
     "status": "completed"
    },
    "scrolled": true,
    "tags": []
   },
   "outputs": [],
   "source": [
    "dataset = []\n",
    "dataset.append(s01)\n",
    "dataset.append(s12)\n",
    "dataset.append(s13)\n",
    "dataset.append(s03)\n",
    "dataset.append(s14)\n",
    "dataset.append(s32)\n",
    "dataset.append(s40)\n",
    "dataset.append(s41)\n",
    "dataset.append(s43)\n",
    "dataset.append(s49)\n",
    "dataset.append(s47)\n",
    "# dataset.append(s29)\n",
    "dataset.append(s30)\n",
    "dataset.append(s31)\n",
    "dataset.append(s33)\n",
    "dataset.append(s35)\n",
    "dataset.append(s36)\n",
    "dataset.append(s37)\n",
    "dataset.append(s38)\n",
    "dataset.append(s39)\n",
    "dataset.append(s42)\n",
    "dataset.append(s44)\n",
    "dataset.append(s45)\n",
    "dataset.append(s46)\n",
    "dataset.append(s48)\n",
    "dataset.append(s50)\n",
    "dataset.append(s51)\n",
    "dataset.append(s52)"
   ]
  },
  {
   "cell_type": "code",
   "execution_count": 6,
   "id": "5c93212c",
   "metadata": {
    "execution": {
     "iopub.execute_input": "2024-03-12T06:42:25.559912Z",
     "iopub.status.busy": "2024-03-12T06:42:25.559294Z",
     "iopub.status.idle": "2024-03-12T06:43:51.885390Z",
     "shell.execute_reply": "2024-03-12T06:43:51.884492Z"
    },
    "id": "8ZWn2h3XvN1C",
    "papermill": {
     "duration": 86.337859,
     "end_time": "2024-03-12T06:43:51.887828",
     "exception": false,
     "start_time": "2024-03-12T06:42:25.549969",
     "status": "completed"
    },
    "tags": []
   },
   "outputs": [],
   "source": [
    "#3/09:\n",
    "s02 = sio.loadmat('/kaggle/input/GIGA_MI_ME/s02.mat')\n",
    "s04 = sio.loadmat('/kaggle/input/GIGA_MI_ME/s04.mat')\n",
    "s05 = sio.loadmat('/kaggle/input/GIGA_MI_ME/s05.mat')\n",
    "s06 = sio.loadmat('/kaggle/input/GIGA_MI_ME/s06.mat')\n",
    "s07 = sio.loadmat('/kaggle/input/GIGA_MI_ME/s07.mat')\n",
    "s08 = sio.loadmat('/kaggle/input/GIGA_MI_ME/s08.mat')\n",
    "s09 = sio.loadmat('/kaggle/input/GIGA_MI_ME/s09.mat')\n",
    "s10 = sio.loadmat('/kaggle/input/GIGA_MI_ME/s10.mat')\n",
    "s11 = sio.loadmat('/kaggle/input/GIGA_MI_ME/s11.mat')\n",
    "s15 = sio.loadmat('/kaggle/input/GIGA_MI_ME/s15.mat')\n",
    "s16 = sio.loadmat('/kaggle/input/GIGA_MI_ME/s16.mat')\n",
    "s17 = sio.loadmat('/kaggle/input/GIGA_MI_ME/s17.mat')\n",
    "s18 = sio.loadmat('/kaggle/input/GIGA_MI_ME/s18.mat')\n",
    "s19 = sio.loadmat('/kaggle/input/GIGA_MI_ME/s19.mat')\n",
    "s20 = sio.loadmat('/kaggle/input/GIGA_MI_ME/s20.mat')\n",
    "s21 = sio.loadmat('/kaggle/input/GIGA_MI_ME/s21.mat')\n",
    "s22 = sio.loadmat('/kaggle/input/GIGA_MI_ME/s22.mat')\n",
    "s23 = sio.loadmat('/kaggle/input/GIGA_MI_ME/s23.mat')\n",
    "s24 = sio.loadmat('/kaggle/input/GIGA_MI_ME/s24.mat')\n",
    "s25 = sio.loadmat('/kaggle/input/GIGA_MI_ME/s25.mat')\n",
    "s26 = sio.loadmat('/kaggle/input/GIGA_MI_ME/s26.mat')\n",
    "s27 = sio.loadmat('/kaggle/input/GIGA_MI_ME/s27.mat')\n",
    "s28 = sio.loadmat('/kaggle/input/GIGA_MI_ME/s28.mat')\n"
   ]
  },
  {
   "cell_type": "code",
   "execution_count": 7,
   "id": "1a90cd04",
   "metadata": {
    "execution": {
     "iopub.execute_input": "2024-03-12T06:43:51.907216Z",
     "iopub.status.busy": "2024-03-12T06:43:51.906880Z",
     "iopub.status.idle": "2024-03-12T06:43:51.914875Z",
     "shell.execute_reply": "2024-03-12T06:43:51.913992Z"
    },
    "id": "WTzNCEnqB8h0",
    "papermill": {
     "duration": 0.019879,
     "end_time": "2024-03-12T06:43:51.916925",
     "exception": false,
     "start_time": "2024-03-12T06:43:51.897046",
     "status": "completed"
    },
    "tags": []
   },
   "outputs": [],
   "source": [
    "dataset.append(s02)\n",
    "dataset.append(s04)\n",
    "dataset.append(s05)\n",
    "dataset.append(s06)\n",
    "dataset.append(s07)\n",
    "dataset.append(s08)\n",
    "dataset.append(s09)\n",
    "dataset.append(s10)\n",
    "dataset.append(s11)\n",
    "dataset.append(s15)\n",
    "dataset.append(s16)\n",
    "dataset.append(s17)\n",
    "dataset.append(s18)\n",
    "dataset.append(s19)\n",
    "dataset.append(s20)\n",
    "dataset.append(s21)\n",
    "dataset.append(s22)\n",
    "dataset.append(s23)\n",
    "dataset.append(s24)\n",
    "dataset.append(s25)\n",
    "dataset.append(s26)\n",
    "dataset.append(s27)\n",
    "dataset.append(s28)"
   ]
  },
  {
   "cell_type": "markdown",
   "id": "7303182e",
   "metadata": {
    "id": "G3jTMzi3QIVB",
    "papermill": {
     "duration": 0.008541,
     "end_time": "2024-03-12T06:43:51.934244",
     "exception": false,
     "start_time": "2024-03-12T06:43:51.925703",
     "status": "completed"
    },
    "tags": []
   },
   "source": [
    "### Data Processing Function:"
   ]
  },
  {
   "cell_type": "code",
   "execution_count": 8,
   "id": "aeef668b",
   "metadata": {
    "execution": {
     "iopub.execute_input": "2024-03-12T06:43:51.952757Z",
     "iopub.status.busy": "2024-03-12T06:43:51.952514Z",
     "iopub.status.idle": "2024-03-12T06:43:51.963098Z",
     "shell.execute_reply": "2024-03-12T06:43:51.962298Z"
    },
    "id": "xHxSRo-2zEkx",
    "papermill": {
     "duration": 0.021887,
     "end_time": "2024-03-12T06:43:51.964858",
     "exception": false,
     "start_time": "2024-03-12T06:43:51.942971",
     "status": "completed"
    },
    "tags": []
   },
   "outputs": [],
   "source": [
    "class get_data():\n",
    "\n",
    "    def __init__(self, mat_input):\n",
    "        self.mat_input = mat_input\n",
    "\n",
    "    def get_movement(self):\n",
    "        movement_left = []\n",
    "        movement_right = []\n",
    "        movement_event = []\n",
    "        sliced_left = []\n",
    "        sliced_right = []\n",
    "        index = []\n",
    "        movement_event = self.mat_input['eeg']['movement_event'][0][0][0]\n",
    "        # get raw dataset\n",
    "#         for i in range(len(self.mat_input['eeg']['movement_left'][0][0])-4):\n",
    "        for i in [9, 11, 44, 48, 18, 45, 46, 55]:\n",
    "            movement_left.append(self.mat_input['eeg']['movement_left'][0][0][i])\n",
    "            movement_right.append(self.mat_input['eeg']['movement_right'][0][0][i])\n",
    "        #get onset (starting pt) of movement_event:\n",
    "        for q in range(len(movement_event)):\n",
    "            if movement_event[q] == 1:\n",
    "                  index.append(q)\n",
    "        #slice movement_left and right to only keep actice region:\n",
    "        for x in range(len(index)):\n",
    "            temp_left = []\n",
    "            temp_right = []\n",
    "            for j in range(len(movement_left)):\n",
    "                start_index = index[x]\n",
    "                end_index = start_index + 1536 #three seconds for a period\n",
    "                temp_left.append(movement_left[j][start_index:end_index])\n",
    "                temp_right.append(movement_right[j][start_index:end_index])\n",
    "            sliced_left.append(temp_left)\n",
    "            sliced_right.append(temp_right)\n",
    "        return sliced_left, sliced_right, index, movement_left, movement_right"
   ]
  },
  {
   "cell_type": "markdown",
   "id": "24813019",
   "metadata": {
    "id": "oMn0Xf6kesf4",
    "papermill": {
     "duration": 0.008525,
     "end_time": "2024-03-12T06:43:51.982020",
     "exception": false,
     "start_time": "2024-03-12T06:43:51.973495",
     "status": "completed"
    },
    "tags": []
   },
   "source": [
    "### Load the data (choose one to run)"
   ]
  },
  {
   "cell_type": "code",
   "execution_count": 9,
   "id": "03780873",
   "metadata": {
    "execution": {
     "iopub.execute_input": "2024-03-12T06:43:52.000447Z",
     "iopub.status.busy": "2024-03-12T06:43:52.000204Z",
     "iopub.status.idle": "2024-03-12T06:44:01.195845Z",
     "shell.execute_reply": "2024-03-12T06:44:01.195068Z"
    },
    "id": "Ua5r3J5k7DVu",
    "papermill": {
     "duration": 9.207296,
     "end_time": "2024-03-12T06:44:01.197991",
     "exception": false,
     "start_time": "2024-03-12T06:43:51.990695",
     "status": "completed"
    },
    "tags": []
   },
   "outputs": [],
   "source": [
    "import numpy as np\n",
    "left = []\n",
    "right = []\n",
    "for s in dataset:\n",
    "    data1 = get_data(s)\n",
    "    left1 = []\n",
    "    right1 = []\n",
    "    event1 = []\n",
    "    left1, right1, event1, img_left1, img_right1 = data1.get_movement()\n",
    "    left += left1\n",
    "    right += right1"
   ]
  },
  {
   "cell_type": "code",
   "execution_count": 10,
   "id": "64f82860",
   "metadata": {
    "execution": {
     "iopub.execute_input": "2024-03-12T06:44:01.217308Z",
     "iopub.status.busy": "2024-03-12T06:44:01.216950Z",
     "iopub.status.idle": "2024-03-12T06:44:01.282263Z",
     "shell.execute_reply": "2024-03-12T06:44:01.281279Z"
    },
    "papermill": {
     "duration": 0.077183,
     "end_time": "2024-03-12T06:44:01.284452",
     "exception": false,
     "start_time": "2024-03-12T06:44:01.207269",
     "status": "completed"
    },
    "tags": []
   },
   "outputs": [
    {
     "name": "stdout",
     "output_type": "stream",
     "text": [
      "(1000, 8, 1536)\n"
     ]
    }
   ],
   "source": [
    "leftnp = np.array(left)\n",
    "print(leftnp.shape)"
   ]
  },
  {
   "cell_type": "code",
   "execution_count": 11,
   "id": "6cff296f",
   "metadata": {
    "execution": {
     "iopub.execute_input": "2024-03-12T06:44:01.303732Z",
     "iopub.status.busy": "2024-03-12T06:44:01.303423Z",
     "iopub.status.idle": "2024-03-12T06:44:01.307589Z",
     "shell.execute_reply": "2024-03-12T06:44:01.306715Z"
    },
    "papermill": {
     "duration": 0.015808,
     "end_time": "2024-03-12T06:44:01.309476",
     "exception": false,
     "start_time": "2024-03-12T06:44:01.293668",
     "status": "completed"
    },
    "tags": []
   },
   "outputs": [],
   "source": [
    "import matplotlib.pyplot as plt"
   ]
  },
  {
   "cell_type": "code",
   "execution_count": 12,
   "id": "79b57478",
   "metadata": {
    "execution": {
     "iopub.execute_input": "2024-03-12T06:44:01.327994Z",
     "iopub.status.busy": "2024-03-12T06:44:01.327722Z",
     "iopub.status.idle": "2024-03-12T06:44:01.334014Z",
     "shell.execute_reply": "2024-03-12T06:44:01.333214Z"
    },
    "id": "yV4yqhE0cLQH",
    "papermill": {
     "duration": 0.017538,
     "end_time": "2024-03-12T06:44:01.335858",
     "exception": false,
     "start_time": "2024-03-12T06:44:01.318320",
     "status": "completed"
    },
    "tags": []
   },
   "outputs": [],
   "source": [
    "def filter(input_array, window_size):\n",
    "    total = []\n",
    "    window = window_size\n",
    "    new_length = 0\n",
    "    for i in range(len(input_array)):\n",
    "        one_trail = []\n",
    "        for k in range(len(input_array[i])):\n",
    "            one_channel = []\n",
    "            for y in range(len(input_array[i][k])):\n",
    "                if y >= window:\n",
    "                    sum = input_array[i][k][y-window:y].sum()\n",
    "                    avg = sum / window\n",
    "                    one_channel.append(avg)\n",
    "            one_trail.append(one_channel)\n",
    "            new_length = len(one_channel)\n",
    "        total.append(one_trail)\n",
    "    return total, new_length\n"
   ]
  },
  {
   "cell_type": "code",
   "execution_count": 13,
   "id": "9f1cebbd",
   "metadata": {
    "execution": {
     "iopub.execute_input": "2024-03-12T06:44:01.354389Z",
     "iopub.status.busy": "2024-03-12T06:44:01.354153Z",
     "iopub.status.idle": "2024-03-12T06:46:35.089878Z",
     "shell.execute_reply": "2024-03-12T06:46:35.089045Z"
    },
    "id": "qXfNsa9lcgNo",
    "papermill": {
     "duration": 153.747725,
     "end_time": "2024-03-12T06:46:35.092374",
     "exception": false,
     "start_time": "2024-03-12T06:44:01.344649",
     "status": "completed"
    },
    "tags": []
   },
   "outputs": [],
   "source": [
    "left, new_timesteps = filter(left, 32)\n",
    "right, new_timesteps = filter(right, 32)"
   ]
  },
  {
   "cell_type": "code",
   "execution_count": 14,
   "id": "d64be440",
   "metadata": {
    "execution": {
     "iopub.execute_input": "2024-03-12T06:46:35.129559Z",
     "iopub.status.busy": "2024-03-12T06:46:35.129236Z",
     "iopub.status.idle": "2024-03-12T06:46:35.134362Z",
     "shell.execute_reply": "2024-03-12T06:46:35.133488Z"
    },
    "id": "Y13f6Nq0qw4g",
    "papermill": {
     "duration": 0.017142,
     "end_time": "2024-03-12T06:46:35.136368",
     "exception": false,
     "start_time": "2024-03-12T06:46:35.119226",
     "status": "completed"
    },
    "tags": []
   },
   "outputs": [],
   "source": [
    "def reshape(input_array):\n",
    "    output_array = [] #should have 100 elements (arrays)\n",
    "    # channel_array = [] #should have 64 elements\n",
    "    for i in range(len(input_array)):\n",
    "        each_trail = []\n",
    "        before_trans = np.array(input_array[i])\n",
    "        output_array.append(before_trans.transpose())\n",
    "    return output_array"
   ]
  },
  {
   "cell_type": "code",
   "execution_count": 15,
   "id": "c1b0864a",
   "metadata": {
    "execution": {
     "iopub.execute_input": "2024-03-12T06:46:35.155294Z",
     "iopub.status.busy": "2024-03-12T06:46:35.154964Z",
     "iopub.status.idle": "2024-03-12T06:46:37.544192Z",
     "shell.execute_reply": "2024-03-12T06:46:37.543196Z"
    },
    "id": "kjjGv8ulOh8S",
    "papermill": {
     "duration": 2.40128,
     "end_time": "2024-03-12T06:46:37.546564",
     "exception": false,
     "start_time": "2024-03-12T06:46:35.145284",
     "status": "completed"
    },
    "tags": []
   },
   "outputs": [],
   "source": [
    "right = reshape(right) #reshape array for the network\n",
    "left = reshape(left)"
   ]
  },
  {
   "cell_type": "code",
   "execution_count": 16,
   "id": "7a3a5b7a",
   "metadata": {
    "execution": {
     "iopub.execute_input": "2024-03-12T06:46:37.582948Z",
     "iopub.status.busy": "2024-03-12T06:46:37.582606Z",
     "iopub.status.idle": "2024-03-12T06:46:38.327344Z",
     "shell.execute_reply": "2024-03-12T06:46:38.326525Z"
    },
    "id": "UWovGQxJbUJs",
    "papermill": {
     "duration": 0.756531,
     "end_time": "2024-03-12T06:46:38.329532",
     "exception": false,
     "start_time": "2024-03-12T06:46:37.573001",
     "status": "completed"
    },
    "tags": []
   },
   "outputs": [],
   "source": [
    "from sklearn.preprocessing import StandardScaler\n",
    "def normalize(input_data):\n",
    "    output_data = []\n",
    "    for i in range(len(input_data)):\n",
    "        scaler = StandardScaler()\n",
    "        scaler.fit(input_data[i])\n",
    "        scaled_X = scaler.transform(input_data[i])\n",
    "        output_data.append(scaled_X)\n",
    "    return output_data"
   ]
  },
  {
   "cell_type": "code",
   "execution_count": 17,
   "id": "8bddaa74",
   "metadata": {
    "execution": {
     "iopub.execute_input": "2024-03-12T06:46:38.348913Z",
     "iopub.status.busy": "2024-03-12T06:46:38.348380Z",
     "iopub.status.idle": "2024-03-12T06:46:39.371014Z",
     "shell.execute_reply": "2024-03-12T06:46:39.370038Z"
    },
    "id": "yE53msmTMepw",
    "papermill": {
     "duration": 1.034753,
     "end_time": "2024-03-12T06:46:39.373339",
     "exception": false,
     "start_time": "2024-03-12T06:46:38.338586",
     "status": "completed"
    },
    "tags": []
   },
   "outputs": [],
   "source": [
    "left = normalize(left)\n",
    "right = normalize(right)"
   ]
  },
  {
   "cell_type": "code",
   "execution_count": 18,
   "id": "ab1da14d",
   "metadata": {
    "execution": {
     "iopub.execute_input": "2024-03-12T06:46:39.392308Z",
     "iopub.status.busy": "2024-03-12T06:46:39.391963Z",
     "iopub.status.idle": "2024-03-12T06:46:39.402249Z",
     "shell.execute_reply": "2024-03-12T06:46:39.401412Z"
    },
    "id": "i2N1ulEfY_J9",
    "papermill": {
     "duration": 0.021693,
     "end_time": "2024-03-12T06:46:39.404067",
     "exception": false,
     "start_time": "2024-03-12T06:46:39.382374",
     "status": "completed"
    },
    "tags": []
   },
   "outputs": [],
   "source": [
    "label = []\n",
    "X = []\n",
    "for i in range(len(left)):\n",
    "    label.append([0]) # left - class 0\n",
    "    X.append(left[i])\n",
    "for y in range(len(right)):\n",
    "    label.append([1]) # right - class 1\n",
    "    X.append(right[y])\n",
    "\n",
    "#shuffle arrays for randomness:\n",
    "import random\n",
    "temp = list(zip(X, label))\n",
    "random.seed(1)\n",
    "random.shuffle(temp)\n",
    "X, label = zip(*temp)"
   ]
  },
  {
   "cell_type": "markdown",
   "id": "ffe8fea5",
   "metadata": {
    "id": "MaCJYHY11vhN",
    "papermill": {
     "duration": 0.008664,
     "end_time": "2024-03-12T06:46:39.421508",
     "exception": false,
     "start_time": "2024-03-12T06:46:39.412844",
     "status": "completed"
    },
    "tags": []
   },
   "source": [
    "#### Transfer into numpy array"
   ]
  },
  {
   "cell_type": "code",
   "execution_count": 19,
   "id": "0f48b456",
   "metadata": {
    "execution": {
     "iopub.execute_input": "2024-03-12T06:46:39.440090Z",
     "iopub.status.busy": "2024-03-12T06:46:39.439816Z",
     "iopub.status.idle": "2024-03-12T06:46:39.517470Z",
     "shell.execute_reply": "2024-03-12T06:46:39.516612Z"
    },
    "id": "VLm7sxjnvLsS",
    "papermill": {
     "duration": 0.089471,
     "end_time": "2024-03-12T06:46:39.519751",
     "exception": false,
     "start_time": "2024-03-12T06:46:39.430280",
     "status": "completed"
    },
    "tags": []
   },
   "outputs": [],
   "source": [
    "label = np.array(label)\n",
    "X = np.array(X)"
   ]
  },
  {
   "cell_type": "code",
   "execution_count": 21,
   "id": "1017a42d",
   "metadata": {
    "execution": {
     "iopub.execute_input": "2024-03-12T06:46:39.562696Z",
     "iopub.status.busy": "2024-03-12T06:46:39.562427Z",
     "iopub.status.idle": "2024-03-12T06:46:41.039214Z",
     "shell.execute_reply": "2024-03-12T06:46:41.038093Z"
    },
    "id": "FspWgjtpc9ev",
    "papermill": {
     "duration": 1.488629,
     "end_time": "2024-03-12T06:46:41.041588",
     "exception": false,
     "start_time": "2024-03-12T06:46:39.552959",
     "status": "completed"
    },
    "tags": []
   },
   "outputs": [],
   "source": [
    "import math as math\n",
    "element_num = len(X)\n",
    "train_index = element_num * 0.8 #choose 80% for training and 20% for validation\n",
    "train_index = math.floor(train_index)\n",
    "scaled_X = normalize(X) #normalize input data\n",
    "scaled_X = np.array(scaled_X)\n",
    "train_X = scaled_X[:train_index]\n",
    "train_label = label[:train_index]\n",
    "test_X = scaled_X[train_index:]\n",
    "test_label = label[train_index:]"
   ]
  },
  {
   "cell_type": "markdown",
   "id": "f3750174",
   "metadata": {
    "id": "P8uo2aw6L_mZ",
    "papermill": {
     "duration": 0.008543,
     "end_time": "2024-03-12T06:46:41.084248",
     "exception": false,
     "start_time": "2024-03-12T06:46:41.075705",
     "status": "completed"
    },
    "tags": []
   },
   "source": [
    "### Build the EEGNet model"
   ]
  },
  {
   "cell_type": "code",
   "execution_count": 23,
   "id": "d915d7af",
   "metadata": {
    "execution": {
     "iopub.execute_input": "2024-03-12T06:46:41.120511Z",
     "iopub.status.busy": "2024-03-12T06:46:41.119794Z",
     "iopub.status.idle": "2024-03-12T07:07:25.880825Z",
     "shell.execute_reply": "2024-03-12T07:07:25.879825Z"
    },
    "id": "wELfDkAf-njt",
    "outputId": "3696123b-636c-482e-bd96-37bbfc94a064",
    "papermill": {
     "duration": 1244.773062,
     "end_time": "2024-03-12T07:07:25.883236",
     "exception": false,
     "start_time": "2024-03-12T06:46:41.110174",
     "status": "completed"
    },
    "tags": []
   },
   "outputs": [
    {
     "name": "stdout",
     "output_type": "stream",
     "text": [
      "Trial 20 Complete [00h 01m 57s]\n",
      "val_accuracy: 0.6299999952316284\n",
      "\n",
      "Best val_accuracy So Far: 0.6600000262260437\n",
      "Total elapsed time: 00h 20m 43s\n"
     ]
    }
   ],
   "source": [
    "from tensorflow.keras.models import Model\n",
    "from tensorflow.keras.layers import Input, Conv2D, BatchNormalization, DepthwiseConv2D, Activation, AveragePooling2D, Flatten, Dense\n",
    "from tensorflow.keras.layers import Dropout, SpatialDropout2D, SeparableConv2D\n",
    "from tensorflow.keras.constraints import max_norm\n",
    "from tensorflow.keras.optimizers import SGD\n",
    "from kerastuner.tuners import RandomSearch\n",
    "from kerastuner.engine.hyperparameters import HyperParameter as hp\n",
    "from tensorflow.keras.callbacks import EarlyStopping\n",
    "def build_eegnet_model(hp):\n",
    "    Chans = 8\n",
    "    Samples = new_timesteps\n",
    "    nb_classes = 2  # You need to specify the correct number of classes\n",
    "    dropoutRate = hp.Float('dropout_rate', min_value=0.2, max_value=0.8, step=0.1)  # 调整dropout范围\n",
    "    kernLength = hp.Choice('kern_length', values=[32, 64, 128, 256])  # 添加更大的kernel长度\n",
    "    F1 = hp.Int('F1', min_value=4, max_value=96, step=4)  # 扩大F1范围\n",
    "    D = hp.Int('D', min_value=1, max_value=8)  # 扩大D的范围\n",
    "    norm_rate = hp.Float('norm_rate', min_value=0.1, max_value=1.0, step=0.1)\n",
    "    F2 = F1 * D\n",
    "    \n",
    "    if hp.Choice('dropout_type', values=['SpatialDropout2D', 'Dropout']) == 'SpatialDropout2D':\n",
    "        dropoutType = SpatialDropout2D\n",
    "    else:\n",
    "        dropoutType = Dropout\n",
    "\n",
    "    input1 = Input(shape=(Chans, Samples, 1))\n",
    "\n",
    "    block1 = Conv2D(F1, (1, kernLength), padding='same', input_shape=(Chans, Samples, 1), use_bias=False)(input1)\n",
    "    block1 = BatchNormalization()(block1)\n",
    "    block1 = DepthwiseConv2D((Chans, 1), use_bias=False, depth_multiplier=D, depthwise_constraint=max_norm(1.))(block1)\n",
    "    block1 = BatchNormalization()(block1)\n",
    "    block1 = Activation('elu')(block1)\n",
    "    block1 = AveragePooling2D((1, 4))(block1)\n",
    "    block1 = dropoutType(dropoutRate)(block1)\n",
    "\n",
    "    block2 = SeparableConv2D(F2, (1, 16), use_bias=False, padding='same')(block1)\n",
    "    block2 = BatchNormalization()(block2)\n",
    "    block2 = Activation('elu')(block2)\n",
    "    block2 = AveragePooling2D((1, 8))(block2)\n",
    "    block2 = dropoutType(dropoutRate)(block2)\n",
    "\n",
    "    flatten = Flatten(name='flatten')(block2)\n",
    "\n",
    "    dense = Dense(nb_classes, name='dense', kernel_constraint=max_norm(norm_rate))(flatten)\n",
    "    softmax = Activation('softmax', name='softmax')(dense)\n",
    "\n",
    "    model = Model(inputs=input1, outputs=softmax)\n",
    "\n",
    "    sgd = SGD(learning_rate=hp.Float('learning_rate', min_value=1e-5, max_value=1e-2, sampling='log'))\n",
    "    \n",
    "    model.compile(loss='sparse_categorical_crossentropy', optimizer=sgd, metrics=['accuracy'])\n",
    "\n",
    "    return model\n",
    "# if the code only run once this is needed\n",
    "train_X = np.transpose(train_X, (0, 2, 1))\n",
    "train_X = np.expand_dims(train_X, axis=-1)\n",
    "test_X = np.transpose(test_X, (0, 2, 1))\n",
    "test_X = np.expand_dims(test_X, axis=-1)\n",
    "\n",
    "val_data = (test_X, test_label)\n",
    "# Instantiate the tuner\n",
    "tuner = RandomSearch(\n",
    "    build_eegnet_model,\n",
    "    objective='val_accuracy',\n",
    "    max_trials=20,\n",
    "    directory='eegnet_tuner_dir',\n",
    "    project_name='eegnet_tuning'\n",
    ")\n",
    "\n",
    "# Define early stopping callback\n",
    "early_stopping = EarlyStopping(monitor='val_loss', patience=5)\n",
    "\n",
    "# Perform the hyperparameter search\n",
    "tuner.search(train_X, train_label,\n",
    "             epochs=50,\n",
    "             validation_data=val_data,\n",
    "             callbacks=[early_stopping])\n"
   ]
  },
  {
   "cell_type": "code",
   "execution_count": 24,
   "id": "da97a32c",
   "metadata": {
    "execution": {
     "iopub.execute_input": "2024-03-12T07:07:25.902758Z",
     "iopub.status.busy": "2024-03-12T07:07:25.902466Z",
     "iopub.status.idle": "2024-03-12T07:07:27.381496Z",
     "shell.execute_reply": "2024-03-12T07:07:27.380500Z"
    },
    "papermill": {
     "duration": 1.490919,
     "end_time": "2024-03-12T07:07:27.383521",
     "exception": false,
     "start_time": "2024-03-12T07:07:25.892602",
     "status": "completed"
    },
    "tags": []
   },
   "outputs": [
    {
     "name": "stdout",
     "output_type": "stream",
     "text": [
      "Best Hyperparameters: {'dropout_rate': 0.2, 'kern_length': 32, 'F1': 36, 'D': 5, 'norm_rate': 0.7000000000000001, 'dropout_type': 'SpatialDropout2D', 'learning_rate': 0.00024921365270011496}\n",
      "Best Trial ID: 13\n",
      "\u001b[1m13/13\u001b[0m \u001b[32m━━━━━━━━━━━━━━━━━━━━\u001b[0m\u001b[37m\u001b[0m \u001b[1m1s\u001b[0m 30ms/step - accuracy: 0.6622 - loss: 0.6428\n"
     ]
    }
   ],
   "source": [
    "# Get the best hyperparameters\n",
    "best_hp = tuner.oracle.get_best_trials(num_trials=1)[0].hyperparameters.values\n",
    "print(\"Best Hyperparameters:\", best_hp)\n",
    "\n",
    "\n",
    "best_trial = tuner.oracle.get_best_trials(num_trials=1)[0]\n",
    "\n",
    "print(\"Best Trial ID:\", best_trial.trial_id)\n",
    "\n",
    "# Build the final model with the best hyperparameters\n",
    "final_model = tuner.get_best_models(num_models=1)[0]\n",
    "test_accuracy = final_model.evaluate(test_X, test_label)[1]"
   ]
  }
 ],
 "metadata": {
  "accelerator": "GPU",
  "colab": {
   "provenance": []
  },
  "kaggle": {
   "accelerator": "gpu",
   "dataSources": [
    {
     "datasetId": 3008205,
     "sourceId": 5175158,
     "sourceType": "datasetVersion"
    }
   ],
   "dockerImageVersionId": 30665,
   "isGpuEnabled": true,
   "isInternetEnabled": false,
   "language": "python",
   "sourceType": "notebook"
  },
  "kernelspec": {
   "display_name": "Python 3",
   "language": "python",
   "name": "python3"
  },
  "language_info": {
   "codemirror_mode": {
    "name": "ipython",
    "version": 3
   },
   "file_extension": ".py",
   "mimetype": "text/x-python",
   "name": "python",
   "nbconvert_exporter": "python",
   "pygments_lexer": "ipython3",
   "version": "3.10.13"
  },
  "papermill": {
   "default_parameters": {},
   "duration": 1621.702292,
   "end_time": "2024-03-12T07:07:30.400169",
   "environment_variables": {},
   "exception": null,
   "input_path": "__notebook__.ipynb",
   "output_path": "__notebook__.ipynb",
   "parameters": {},
   "start_time": "2024-03-12T06:40:28.697877",
   "version": "2.5.0"
  }
 },
 "nbformat": 4,
 "nbformat_minor": 5
}
