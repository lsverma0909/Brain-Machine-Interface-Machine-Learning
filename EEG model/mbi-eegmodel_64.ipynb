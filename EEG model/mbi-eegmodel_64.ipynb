{
 "cells": [
  {
   "cell_type": "code",
   "execution_count": 1,
   "id": "a0577ab9",
   "metadata": {
    "execution": {
     "iopub.execute_input": "2024-03-11T23:47:28.808968Z",
     "iopub.status.busy": "2024-03-11T23:47:28.808535Z",
     "iopub.status.idle": "2024-03-11T23:47:42.687264Z",
     "shell.execute_reply": "2024-03-11T23:47:42.686147Z"
    },
    "id": "faSd8_sTLvKE",
    "papermill": {
     "duration": 13.893718,
     "end_time": "2024-03-11T23:47:42.689950",
     "exception": false,
     "start_time": "2024-03-11T23:47:28.796232",
     "status": "completed"
    },
    "tags": []
   },
   "outputs": [
    {
     "name": "stderr",
     "output_type": "stream",
     "text": [
      "2024-03-11 23:47:30.841909: E external/local_xla/xla/stream_executor/cuda/cuda_dnn.cc:9261] Unable to register cuDNN factory: Attempting to register factory for plugin cuDNN when one has already been registered\n",
      "2024-03-11 23:47:30.842029: E external/local_xla/xla/stream_executor/cuda/cuda_fft.cc:607] Unable to register cuFFT factory: Attempting to register factory for plugin cuFFT when one has already been registered\n",
      "2024-03-11 23:47:30.987140: E external/local_xla/xla/stream_executor/cuda/cuda_blas.cc:1515] Unable to register cuBLAS factory: Attempting to register factory for plugin cuBLAS when one has already been registered\n"
     ]
    }
   ],
   "source": [
    "import keras"
   ]
  },
  {
   "cell_type": "markdown",
   "id": "ff5e2710",
   "metadata": {
    "id": "BAbUeGQKufgp",
    "papermill": {
     "duration": 0.010615,
     "end_time": "2024-03-11T23:47:42.717314",
     "exception": false,
     "start_time": "2024-03-11T23:47:42.706699",
     "status": "completed"
    },
    "tags": []
   },
   "source": [
    "### Read in data in .mat format"
   ]
  },
  {
   "cell_type": "code",
   "execution_count": 2,
   "id": "f0acf204",
   "metadata": {
    "execution": {
     "iopub.execute_input": "2024-03-11T23:47:42.740534Z",
     "iopub.status.busy": "2024-03-11T23:47:42.739302Z",
     "iopub.status.idle": "2024-03-11T23:47:42.815564Z",
     "shell.execute_reply": "2024-03-11T23:47:42.814390Z"
    },
    "id": "RYGIeVn0NN2E",
    "papermill": {
     "duration": 0.092056,
     "end_time": "2024-03-11T23:47:42.819125",
     "exception": false,
     "start_time": "2024-03-11T23:47:42.727069",
     "status": "completed"
    },
    "tags": []
   },
   "outputs": [],
   "source": [
    "import scipy.io as sio\n",
    "import matplotlib.pyplot as plt"
   ]
  },
  {
   "cell_type": "markdown",
   "id": "5f0cf4cc",
   "metadata": {
    "id": "NgJy6fAbQVZ6",
    "papermill": {
     "duration": 0.011102,
     "end_time": "2024-03-11T23:47:42.841594",
     "exception": false,
     "start_time": "2024-03-11T23:47:42.830492",
     "status": "completed"
    },
    "tags": []
   },
   "source": [
    "#### Load All subjects' data"
   ]
  },
  {
   "cell_type": "code",
   "execution_count": 3,
   "id": "95177796",
   "metadata": {
    "execution": {
     "iopub.execute_input": "2024-03-11T23:47:42.862485Z",
     "iopub.status.busy": "2024-03-11T23:47:42.862100Z",
     "iopub.status.idle": "2024-03-11T23:49:27.928070Z",
     "shell.execute_reply": "2024-03-11T23:49:27.927097Z"
    },
    "id": "9jYFCUhTwQxK",
    "outputId": "86220268-a2a9-4d95-92f1-6440cf7ef18a",
    "papermill": {
     "duration": 105.089392,
     "end_time": "2024-03-11T23:49:27.940717",
     "exception": false,
     "start_time": "2024-03-11T23:47:42.851325",
     "status": "completed"
    },
    "tags": []
   },
   "outputs": [
    {
     "data": {
      "text/plain": [
       "dict_keys(['__header__', '__version__', '__globals__', 'eeg'])"
      ]
     },
     "execution_count": 3,
     "metadata": {},
     "output_type": "execute_result"
    }
   ],
   "source": [
    "s01 = sio.loadmat('/kaggle/input/GIGA_MI_ME/s01.mat')\n",
    "s12 = sio.loadmat('/kaggle/input/GIGA_MI_ME/s12.mat')\n",
    "s13 = sio.loadmat('/kaggle/input/GIGA_MI_ME/s13.mat')\n",
    "s03 = sio.loadmat('/kaggle/input/GIGA_MI_ME/s03.mat')\n",
    "s14 = sio.loadmat('/kaggle/input/GIGA_MI_ME/s14.mat')\n",
    "s32 = sio.loadmat('/kaggle/input/GIGA_MI_ME/s32.mat')\n",
    "s40 = sio.loadmat('/kaggle/input/GIGA_MI_ME/s40.mat')\n",
    "s41 = sio.loadmat('/kaggle/input/GIGA_MI_ME/s41.mat')\n",
    "s49 = sio.loadmat('/kaggle/input/GIGA_MI_ME/s49.mat')\n",
    "s47 = sio.loadmat('/kaggle/input/GIGA_MI_ME/s47.mat')\n",
    "#3/14:\n",
    "# s29 = sio.loadmat('/kaggle/input/GIGA_MI_ME/s29.mat')\n",
    "s30 = sio.loadmat('/kaggle/input/GIGA_MI_ME/s30.mat')\n",
    "s31 = sio.loadmat('/kaggle/input/GIGA_MI_ME/s31.mat')\n",
    "s33 = sio.loadmat('/kaggle/input/GIGA_MI_ME/s33.mat')\n",
    "# s34 = sio.loadmat('/content/drive/My Drive/eeg dataset/3:14/s34.mat') bad subject\n",
    "s35 = sio.loadmat('/kaggle/input/GIGA_MI_ME/s35.mat')\n",
    "s36 = sio.loadmat('/kaggle/input/GIGA_MI_ME/s36.mat')\n",
    "s37 = sio.loadmat('/kaggle/input/GIGA_MI_ME/s37.mat')\n",
    "s38 = sio.loadmat('/kaggle/input/GIGA_MI_ME/s38.mat')\n",
    "s39 = sio.loadmat('/kaggle/input/GIGA_MI_ME/s39.mat')\n",
    "s42 = sio.loadmat('/kaggle/input/GIGA_MI_ME/s42.mat')\n",
    "s43 = sio.loadmat('/kaggle/input/GIGA_MI_ME/s43.mat')\n",
    "s44 = sio.loadmat('/kaggle/input/GIGA_MI_ME/s44.mat')\n",
    "s45 = sio.loadmat('/kaggle/input/GIGA_MI_ME/s45.mat')\n",
    "s46 = sio.loadmat('/kaggle/input/GIGA_MI_ME/s46.mat')\n",
    "s48 = sio.loadmat('/kaggle/input/GIGA_MI_ME/s48.mat')\n",
    "s50 = sio.loadmat('/kaggle/input/GIGA_MI_ME/s50.mat')\n",
    "s51 = sio.loadmat('/kaggle/input/GIGA_MI_ME/s51.mat')\n",
    "s52 = sio.loadmat('/kaggle/input/GIGA_MI_ME/s52.mat')\n",
    "# s29 = sio.loadmat('/content/drive/My Drive/eeg dataset/03:09/s02.mat') bad subject\n",
    "s01.keys()\n"
   ]
  },
  {
   "cell_type": "code",
   "execution_count": 5,
   "id": "87390523",
   "metadata": {
    "execution": {
     "iopub.execute_input": "2024-03-11T23:49:27.989563Z",
     "iopub.status.busy": "2024-03-11T23:49:27.989178Z",
     "iopub.status.idle": "2024-03-11T23:49:27.998754Z",
     "shell.execute_reply": "2024-03-11T23:49:27.997706Z"
    },
    "id": "DIoIKPXOveuR",
    "papermill": {
     "duration": 0.023288,
     "end_time": "2024-03-11T23:49:28.001042",
     "exception": false,
     "start_time": "2024-03-11T23:49:27.977754",
     "status": "completed"
    },
    "scrolled": true,
    "tags": []
   },
   "outputs": [],
   "source": [
    "dataset = []\n",
    "dataset.append(s01)\n",
    "dataset.append(s12)\n",
    "dataset.append(s13)\n",
    "dataset.append(s03)\n",
    "dataset.append(s14)\n",
    "dataset.append(s32)\n",
    "dataset.append(s40)\n",
    "dataset.append(s41)\n",
    "dataset.append(s43)\n",
    "dataset.append(s49)\n",
    "dataset.append(s47)\n",
    "# dataset.append(s29)\n",
    "dataset.append(s30)\n",
    "dataset.append(s31)\n",
    "dataset.append(s33)\n",
    "dataset.append(s35)\n",
    "dataset.append(s36)\n",
    "dataset.append(s37)\n",
    "dataset.append(s38)\n",
    "dataset.append(s39)\n",
    "dataset.append(s42)\n",
    "dataset.append(s44)\n",
    "dataset.append(s45)\n",
    "dataset.append(s46)\n",
    "dataset.append(s48)\n",
    "dataset.append(s50)\n",
    "dataset.append(s51)\n",
    "dataset.append(s52)"
   ]
  },
  {
   "cell_type": "code",
   "execution_count": 6,
   "id": "d9b8222c",
   "metadata": {
    "execution": {
     "iopub.execute_input": "2024-03-11T23:49:28.023722Z",
     "iopub.status.busy": "2024-03-11T23:49:28.023343Z",
     "iopub.status.idle": "2024-03-11T23:50:56.269203Z",
     "shell.execute_reply": "2024-03-11T23:50:56.268020Z"
    },
    "id": "8ZWn2h3XvN1C",
    "papermill": {
     "duration": 88.260385,
     "end_time": "2024-03-11T23:50:56.271981",
     "exception": false,
     "start_time": "2024-03-11T23:49:28.011596",
     "status": "completed"
    },
    "tags": []
   },
   "outputs": [],
   "source": [
    "#3/09:\n",
    "s02 = sio.loadmat('/kaggle/input/GIGA_MI_ME/s02.mat')\n",
    "s04 = sio.loadmat('/kaggle/input/GIGA_MI_ME/s04.mat')\n",
    "s05 = sio.loadmat('/kaggle/input/GIGA_MI_ME/s05.mat')\n",
    "s06 = sio.loadmat('/kaggle/input/GIGA_MI_ME/s06.mat')\n",
    "s07 = sio.loadmat('/kaggle/input/GIGA_MI_ME/s07.mat')\n",
    "s08 = sio.loadmat('/kaggle/input/GIGA_MI_ME/s08.mat')\n",
    "s09 = sio.loadmat('/kaggle/input/GIGA_MI_ME/s09.mat')\n",
    "s10 = sio.loadmat('/kaggle/input/GIGA_MI_ME/s10.mat')\n",
    "s11 = sio.loadmat('/kaggle/input/GIGA_MI_ME/s11.mat')\n",
    "s15 = sio.loadmat('/kaggle/input/GIGA_MI_ME/s15.mat')\n",
    "s16 = sio.loadmat('/kaggle/input/GIGA_MI_ME/s16.mat')\n",
    "s17 = sio.loadmat('/kaggle/input/GIGA_MI_ME/s17.mat')\n",
    "s18 = sio.loadmat('/kaggle/input/GIGA_MI_ME/s18.mat')\n",
    "s19 = sio.loadmat('/kaggle/input/GIGA_MI_ME/s19.mat')\n",
    "s20 = sio.loadmat('/kaggle/input/GIGA_MI_ME/s20.mat')\n",
    "s21 = sio.loadmat('/kaggle/input/GIGA_MI_ME/s21.mat')\n",
    "s22 = sio.loadmat('/kaggle/input/GIGA_MI_ME/s22.mat')\n",
    "s23 = sio.loadmat('/kaggle/input/GIGA_MI_ME/s23.mat')\n",
    "s24 = sio.loadmat('/kaggle/input/GIGA_MI_ME/s24.mat')\n",
    "s25 = sio.loadmat('/kaggle/input/GIGA_MI_ME/s25.mat')\n",
    "s26 = sio.loadmat('/kaggle/input/GIGA_MI_ME/s26.mat')\n",
    "s27 = sio.loadmat('/kaggle/input/GIGA_MI_ME/s27.mat')\n",
    "s28 = sio.loadmat('/kaggle/input/GIGA_MI_ME/s28.mat')\n"
   ]
  },
  {
   "cell_type": "code",
   "execution_count": 7,
   "id": "b476bd05",
   "metadata": {
    "execution": {
     "iopub.execute_input": "2024-03-11T23:50:56.293071Z",
     "iopub.status.busy": "2024-03-11T23:50:56.292707Z",
     "iopub.status.idle": "2024-03-11T23:50:56.300557Z",
     "shell.execute_reply": "2024-03-11T23:50:56.299644Z"
    },
    "id": "WTzNCEnqB8h0",
    "papermill": {
     "duration": 0.020808,
     "end_time": "2024-03-11T23:50:56.302681",
     "exception": false,
     "start_time": "2024-03-11T23:50:56.281873",
     "status": "completed"
    },
    "tags": []
   },
   "outputs": [],
   "source": [
    "dataset.append(s02)\n",
    "dataset.append(s04)\n",
    "dataset.append(s05)\n",
    "dataset.append(s06)\n",
    "dataset.append(s07)\n",
    "dataset.append(s08)\n",
    "dataset.append(s09)\n",
    "dataset.append(s10)\n",
    "dataset.append(s11)\n",
    "dataset.append(s15)\n",
    "dataset.append(s16)\n",
    "dataset.append(s17)\n",
    "dataset.append(s18)\n",
    "dataset.append(s19)\n",
    "dataset.append(s20)\n",
    "dataset.append(s21)\n",
    "dataset.append(s22)\n",
    "dataset.append(s23)\n",
    "dataset.append(s24)\n",
    "dataset.append(s25)\n",
    "dataset.append(s26)\n",
    "dataset.append(s27)\n",
    "dataset.append(s28)"
   ]
  },
  {
   "cell_type": "markdown",
   "id": "c4d46d52",
   "metadata": {
    "id": "G3jTMzi3QIVB",
    "papermill": {
     "duration": 0.009369,
     "end_time": "2024-03-11T23:50:56.321630",
     "exception": false,
     "start_time": "2024-03-11T23:50:56.312261",
     "status": "completed"
    },
    "tags": []
   },
   "source": [
    "### Data Processing Function:"
   ]
  },
  {
   "cell_type": "code",
   "execution_count": 8,
   "id": "69d13710",
   "metadata": {
    "execution": {
     "iopub.execute_input": "2024-03-11T23:50:56.341829Z",
     "iopub.status.busy": "2024-03-11T23:50:56.341552Z",
     "iopub.status.idle": "2024-03-11T23:50:56.353163Z",
     "shell.execute_reply": "2024-03-11T23:50:56.352299Z"
    },
    "id": "xHxSRo-2zEkx",
    "papermill": {
     "duration": 0.024281,
     "end_time": "2024-03-11T23:50:56.355131",
     "exception": false,
     "start_time": "2024-03-11T23:50:56.330850",
     "status": "completed"
    },
    "tags": []
   },
   "outputs": [],
   "source": [
    "class get_data():\n",
    "\n",
    "    def __init__(self, mat_input):\n",
    "        self.mat_input = mat_input\n",
    "\n",
    "    def get_movement(self):\n",
    "        movement_left = []\n",
    "        movement_right = []\n",
    "        movement_event = []\n",
    "        sliced_left = []\n",
    "        sliced_right = []\n",
    "        index = []\n",
    "        movement_event = self.mat_input['eeg']['movement_event'][0][0][0]\n",
    "        # get raw dataset\n",
    "        for i in range(len(self.mat_input['eeg']['movement_left'][0][0])-4):\n",
    "#         for i in [9,11,44,48]:\n",
    "            movement_left.append(self.mat_input['eeg']['movement_left'][0][0][i])\n",
    "            movement_right.append(self.mat_input['eeg']['movement_right'][0][0][i])\n",
    "        #get onset (starting pt) of movement_event:\n",
    "        for q in range(len(movement_event)):\n",
    "            if movement_event[q] == 1:\n",
    "                  index.append(q)\n",
    "        #slice movement_left and right to only keep actice region:\n",
    "        for x in range(len(index)):\n",
    "            temp_left = []\n",
    "            temp_right = []\n",
    "            for j in range(len(movement_left)):\n",
    "                start_index = index[x]\n",
    "                end_index = start_index + 1536 #three seconds for a period\n",
    "                temp_left.append(movement_left[j][start_index:end_index])\n",
    "                temp_right.append(movement_right[j][start_index:end_index])\n",
    "            sliced_left.append(temp_left)\n",
    "            sliced_right.append(temp_right)\n",
    "        return sliced_left, sliced_right, index, movement_left, movement_right"
   ]
  },
  {
   "cell_type": "markdown",
   "id": "e6e8b7ee",
   "metadata": {
    "id": "oMn0Xf6kesf4",
    "papermill": {
     "duration": 0.009129,
     "end_time": "2024-03-11T23:50:56.373605",
     "exception": false,
     "start_time": "2024-03-11T23:50:56.364476",
     "status": "completed"
    },
    "tags": []
   },
   "source": [
    "### Load the data (choose one to run)"
   ]
  },
  {
   "cell_type": "code",
   "execution_count": 9,
   "id": "bf6cddbf",
   "metadata": {
    "execution": {
     "iopub.execute_input": "2024-03-11T23:50:56.394252Z",
     "iopub.status.busy": "2024-03-11T23:50:56.393570Z",
     "iopub.status.idle": "2024-03-11T23:51:06.633971Z",
     "shell.execute_reply": "2024-03-11T23:51:06.633015Z"
    },
    "id": "Ua5r3J5k7DVu",
    "papermill": {
     "duration": 10.253541,
     "end_time": "2024-03-11T23:51:06.636630",
     "exception": false,
     "start_time": "2024-03-11T23:50:56.383089",
     "status": "completed"
    },
    "tags": []
   },
   "outputs": [],
   "source": [
    "import numpy as np\n",
    "left = []\n",
    "right = []\n",
    "for s in dataset:\n",
    "    data1 = get_data(s)\n",
    "    left1 = []\n",
    "    right1 = []\n",
    "    event1 = []\n",
    "    left1, right1, event1, img_left1, img_right1 = data1.get_movement()\n",
    "    left += left1\n",
    "    right += right1"
   ]
  },
  {
   "cell_type": "code",
   "execution_count": 10,
   "id": "4809bd26",
   "metadata": {
    "execution": {
     "iopub.execute_input": "2024-03-11T23:51:06.659066Z",
     "iopub.status.busy": "2024-03-11T23:51:06.658691Z",
     "iopub.status.idle": "2024-03-11T23:51:06.899081Z",
     "shell.execute_reply": "2024-03-11T23:51:06.898014Z"
    },
    "papermill": {
     "duration": 0.254098,
     "end_time": "2024-03-11T23:51:06.901366",
     "exception": false,
     "start_time": "2024-03-11T23:51:06.647268",
     "status": "completed"
    },
    "tags": []
   },
   "outputs": [
    {
     "name": "stdout",
     "output_type": "stream",
     "text": [
      "(1000, 64, 1536)\n"
     ]
    }
   ],
   "source": [
    "leftnp = np.array(left)\n",
    "print(leftnp.shape)"
   ]
  },
  {
   "cell_type": "code",
   "execution_count": 11,
   "id": "479ef38b",
   "metadata": {
    "execution": {
     "iopub.execute_input": "2024-03-11T23:51:06.922522Z",
     "iopub.status.busy": "2024-03-11T23:51:06.921877Z",
     "iopub.status.idle": "2024-03-11T23:51:06.926258Z",
     "shell.execute_reply": "2024-03-11T23:51:06.925242Z"
    },
    "papermill": {
     "duration": 0.01681,
     "end_time": "2024-03-11T23:51:06.928319",
     "exception": false,
     "start_time": "2024-03-11T23:51:06.911509",
     "status": "completed"
    },
    "tags": []
   },
   "outputs": [],
   "source": [
    "import matplotlib.pyplot as plt"
   ]
  },
  {
   "cell_type": "code",
   "execution_count": 12,
   "id": "41fd22ff",
   "metadata": {
    "execution": {
     "iopub.execute_input": "2024-03-11T23:51:06.948993Z",
     "iopub.status.busy": "2024-03-11T23:51:06.948613Z",
     "iopub.status.idle": "2024-03-11T23:51:06.955869Z",
     "shell.execute_reply": "2024-03-11T23:51:06.954996Z"
    },
    "id": "yV4yqhE0cLQH",
    "papermill": {
     "duration": 0.020072,
     "end_time": "2024-03-11T23:51:06.958207",
     "exception": false,
     "start_time": "2024-03-11T23:51:06.938135",
     "status": "completed"
    },
    "tags": []
   },
   "outputs": [],
   "source": [
    "def filter(input_array, window_size):\n",
    "    total = []\n",
    "    window = window_size\n",
    "    new_length = 0\n",
    "    for i in range(len(input_array)):\n",
    "        one_trail = []\n",
    "        for k in range(len(input_array[i])):\n",
    "            one_channel = []\n",
    "            for y in range(len(input_array[i][k])):\n",
    "                if y >= window:\n",
    "                    sum = input_array[i][k][y-window:y].sum()\n",
    "                    avg = sum / window\n",
    "                    one_channel.append(avg)\n",
    "            one_trail.append(one_channel)\n",
    "            new_length = len(one_channel)\n",
    "        total.append(one_trail)\n",
    "    return total, new_length\n"
   ]
  },
  {
   "cell_type": "code",
   "execution_count": 13,
   "id": "3cb6e911",
   "metadata": {
    "execution": {
     "iopub.execute_input": "2024-03-11T23:51:06.978324Z",
     "iopub.status.busy": "2024-03-11T23:51:06.977854Z",
     "iopub.status.idle": "2024-03-12T00:13:49.671538Z",
     "shell.execute_reply": "2024-03-12T00:13:49.670615Z"
    },
    "id": "qXfNsa9lcgNo",
    "papermill": {
     "duration": 1362.706689,
     "end_time": "2024-03-12T00:13:49.674483",
     "exception": false,
     "start_time": "2024-03-11T23:51:06.967794",
     "status": "completed"
    },
    "tags": []
   },
   "outputs": [],
   "source": [
    "left, new_timesteps = filter(left, 32)\n",
    "right, new_timesteps = filter(right, 32)"
   ]
  },
  {
   "cell_type": "markdown",
   "id": "c9576b56",
   "metadata": {
    "id": "bG_l6tI-qxhs",
    "papermill": {
     "duration": 0.00946,
     "end_time": "2024-03-12T00:13:49.694224",
     "exception": false,
     "start_time": "2024-03-12T00:13:49.684764",
     "status": "completed"
    },
    "tags": []
   },
   "source": [
    "### Reshape the data so that for one trail, an array with 1536 arrays can be created. Each sub_array contains 64 elements account for 64 channels"
   ]
  },
  {
   "cell_type": "code",
   "execution_count": 14,
   "id": "7636a9f5",
   "metadata": {
    "execution": {
     "iopub.execute_input": "2024-03-12T00:13:49.715062Z",
     "iopub.status.busy": "2024-03-12T00:13:49.714667Z",
     "iopub.status.idle": "2024-03-12T00:13:49.720396Z",
     "shell.execute_reply": "2024-03-12T00:13:49.719522Z"
    },
    "id": "Y13f6Nq0qw4g",
    "papermill": {
     "duration": 0.01861,
     "end_time": "2024-03-12T00:13:49.722352",
     "exception": false,
     "start_time": "2024-03-12T00:13:49.703742",
     "status": "completed"
    },
    "tags": []
   },
   "outputs": [],
   "source": [
    "def reshape(input_array):\n",
    "    output_array = []\n",
    "    for i in range(len(input_array)):\n",
    "        each_trail = []\n",
    "        before_trans = np.array(input_array[i])\n",
    "        output_array.append(before_trans.transpose())\n",
    "    return output_array"
   ]
  },
  {
   "cell_type": "code",
   "execution_count": 15,
   "id": "d40c06e4",
   "metadata": {
    "execution": {
     "iopub.execute_input": "2024-03-12T00:13:49.742664Z",
     "iopub.status.busy": "2024-03-12T00:13:49.742384Z",
     "iopub.status.idle": "2024-03-12T00:14:11.233721Z",
     "shell.execute_reply": "2024-03-12T00:14:11.232865Z"
    },
    "id": "kjjGv8ulOh8S",
    "papermill": {
     "duration": 21.504187,
     "end_time": "2024-03-12T00:14:11.236211",
     "exception": false,
     "start_time": "2024-03-12T00:13:49.732024",
     "status": "completed"
    },
    "tags": []
   },
   "outputs": [],
   "source": [
    "right = reshape(right) #reshape array for the network\n",
    "left = reshape(left)"
   ]
  },
  {
   "cell_type": "code",
   "execution_count": 16,
   "id": "8a568c39",
   "metadata": {
    "execution": {
     "iopub.execute_input": "2024-03-12T00:14:11.276929Z",
     "iopub.status.busy": "2024-03-12T00:14:11.276562Z",
     "iopub.status.idle": "2024-03-12T00:14:12.084899Z",
     "shell.execute_reply": "2024-03-12T00:14:12.084021Z"
    },
    "id": "UWovGQxJbUJs",
    "papermill": {
     "duration": 0.821364,
     "end_time": "2024-03-12T00:14:12.087435",
     "exception": false,
     "start_time": "2024-03-12T00:14:11.266071",
     "status": "completed"
    },
    "tags": []
   },
   "outputs": [],
   "source": [
    "from sklearn.preprocessing import StandardScaler\n",
    "def normalize(input_data):\n",
    "    output_data = []\n",
    "    for i in range(len(input_data)):\n",
    "        scaler = StandardScaler()\n",
    "        scaler.fit(input_data[i])\n",
    "        scaled_X = scaler.transform(input_data[i])\n",
    "        output_data.append(scaled_X)\n",
    "    return output_data"
   ]
  },
  {
   "cell_type": "code",
   "execution_count": 17,
   "id": "4efd3e3d",
   "metadata": {
    "execution": {
     "iopub.execute_input": "2024-03-12T00:14:12.109636Z",
     "iopub.status.busy": "2024-03-12T00:14:12.108221Z",
     "iopub.status.idle": "2024-03-12T00:14:15.082064Z",
     "shell.execute_reply": "2024-03-12T00:14:15.081195Z"
    },
    "id": "yE53msmTMepw",
    "papermill": {
     "duration": 2.986951,
     "end_time": "2024-03-12T00:14:15.084558",
     "exception": false,
     "start_time": "2024-03-12T00:14:12.097607",
     "status": "completed"
    },
    "tags": []
   },
   "outputs": [],
   "source": [
    "left = normalize(left)\n",
    "right = normalize(right)"
   ]
  },
  {
   "cell_type": "code",
   "execution_count": 18,
   "id": "c56049d3",
   "metadata": {
    "execution": {
     "iopub.execute_input": "2024-03-12T00:14:15.106029Z",
     "iopub.status.busy": "2024-03-12T00:14:15.105664Z",
     "iopub.status.idle": "2024-03-12T00:14:15.115721Z",
     "shell.execute_reply": "2024-03-12T00:14:15.114976Z"
    },
    "id": "i2N1ulEfY_J9",
    "papermill": {
     "duration": 0.022972,
     "end_time": "2024-03-12T00:14:15.117731",
     "exception": false,
     "start_time": "2024-03-12T00:14:15.094759",
     "status": "completed"
    },
    "tags": []
   },
   "outputs": [],
   "source": [
    "label = []\n",
    "X = []\n",
    "for i in range(len(left)):\n",
    "    label.append([0]) # left - class 0\n",
    "    X.append(left[i])\n",
    "for y in range(len(right)):\n",
    "    label.append([1]) # right - class 1\n",
    "    X.append(right[y])\n",
    "\n",
    "#shuffle arrays for randomness:\n",
    "import random\n",
    "temp = list(zip(X, label))\n",
    "random.seed(1)\n",
    "random.shuffle(temp)\n",
    "X, label = zip(*temp)"
   ]
  },
  {
   "cell_type": "markdown",
   "id": "a888da51",
   "metadata": {
    "id": "MaCJYHY11vhN",
    "papermill": {
     "duration": 0.009142,
     "end_time": "2024-03-12T00:14:15.136632",
     "exception": false,
     "start_time": "2024-03-12T00:14:15.127490",
     "status": "completed"
    },
    "tags": []
   },
   "source": [
    "#### Transfer into numpy array"
   ]
  },
  {
   "cell_type": "code",
   "execution_count": 19,
   "id": "95e8c607",
   "metadata": {
    "execution": {
     "iopub.execute_input": "2024-03-12T00:14:15.157200Z",
     "iopub.status.busy": "2024-03-12T00:14:15.156537Z",
     "iopub.status.idle": "2024-03-12T00:14:16.022418Z",
     "shell.execute_reply": "2024-03-12T00:14:16.020640Z"
    },
    "id": "VLm7sxjnvLsS",
    "papermill": {
     "duration": 0.880715,
     "end_time": "2024-03-12T00:14:16.026682",
     "exception": false,
     "start_time": "2024-03-12T00:14:15.145967",
     "status": "completed"
    },
    "tags": []
   },
   "outputs": [],
   "source": [
    "label = np.array(label)\n",
    "X = np.array(X)"
   ]
  },
  {
   "cell_type": "code",
   "execution_count": 21,
   "id": "3549aaa6",
   "metadata": {
    "execution": {
     "iopub.execute_input": "2024-03-12T00:14:16.085000Z",
     "iopub.status.busy": "2024-03-12T00:14:16.084382Z",
     "iopub.status.idle": "2024-03-12T00:14:21.017352Z",
     "shell.execute_reply": "2024-03-12T00:14:21.015074Z"
    },
    "id": "FspWgjtpc9ev",
    "papermill": {
     "duration": 4.947152,
     "end_time": "2024-03-12T00:14:21.020511",
     "exception": false,
     "start_time": "2024-03-12T00:14:16.073359",
     "status": "completed"
    },
    "tags": []
   },
   "outputs": [],
   "source": [
    "import math as math\n",
    "element_num = len(X)\n",
    "train_index = element_num * 0.8 #choose 80% for training and 20% for validation\n",
    "train_index = math.floor(train_index)\n",
    "scaled_X = normalize(X) #normalize input data\n",
    "scaled_X = np.array(scaled_X)\n",
    "train_X = scaled_X[:train_index]\n",
    "train_label = label[:train_index]\n",
    "test_X = scaled_X[train_index:]\n",
    "test_label = label[train_index:]"
   ]
  },
  {
   "cell_type": "markdown",
   "id": "bb1c519b",
   "metadata": {
    "id": "P8uo2aw6L_mZ",
    "papermill": {
     "duration": 0.009904,
     "end_time": "2024-03-12T00:14:21.072318",
     "exception": false,
     "start_time": "2024-03-12T00:14:21.062414",
     "status": "completed"
    },
    "tags": []
   },
   "source": [
    "### Build the EEGNet model"
   ]
  },
  {
   "cell_type": "code",
   "execution_count": 23,
   "id": "1933c5dd",
   "metadata": {
    "execution": {
     "iopub.execute_input": "2024-03-12T00:14:21.113262Z",
     "iopub.status.busy": "2024-03-12T00:14:21.112921Z",
     "iopub.status.idle": "2024-03-12T03:16:36.418195Z",
     "shell.execute_reply": "2024-03-12T03:16:36.416953Z"
    },
    "id": "wELfDkAf-njt",
    "outputId": "3696123b-636c-482e-bd96-37bbfc94a064",
    "papermill": {
     "duration": 10935.31858,
     "end_time": "2024-03-12T03:16:36.420472",
     "exception": false,
     "start_time": "2024-03-12T00:14:21.101892",
     "status": "completed"
    },
    "tags": []
   },
   "outputs": [
    {
     "name": "stdout",
     "output_type": "stream",
     "text": [
      "Trial 20 Complete [00h 25m 58s]\n",
      "val_accuracy: 0.6474999785423279\n",
      "\n",
      "Best val_accuracy So Far: 0.6600000262260437\n",
      "Total elapsed time: 03h 02m 14s\n"
     ]
    }
   ],
   "source": [
    "from tensorflow.keras.models import Model\n",
    "from tensorflow.keras.layers import Input, Conv2D, BatchNormalization, DepthwiseConv2D, Activation, AveragePooling2D, Flatten, Dense\n",
    "from tensorflow.keras.layers import Dropout, SpatialDropout2D, SeparableConv2D\n",
    "from tensorflow.keras.constraints import max_norm\n",
    "from tensorflow.keras.optimizers import SGD\n",
    "from kerastuner.tuners import RandomSearch\n",
    "from kerastuner.engine.hyperparameters import HyperParameter as hp\n",
    "from tensorflow.keras.callbacks import EarlyStopping\n",
    "def build_eegnet_model(hp):\n",
    "    Chans = 64\n",
    "    Samples = new_timesteps\n",
    "    nb_classes = 2  # You need to specify the correct number of classes\n",
    "    dropoutRate = hp.Float('dropout_rate', min_value=0.2, max_value=0.8, step=0.1)  # 调整dropout范围\n",
    "    kernLength = hp.Choice('kern_length', values=[32, 64, 128, 256])  # 添加更大的kernel长度\n",
    "    F1 = hp.Int('F1', min_value=4, max_value=96, step=4)  # 扩大F1范围\n",
    "    D = hp.Int('D', min_value=1, max_value=8)  # 扩大D的范围\n",
    "    norm_rate = hp.Float('norm_rate', min_value=0.1, max_value=1.0, step=0.1)\n",
    "    F2 = F1 * D\n",
    "    \n",
    "    if hp.Choice('dropout_type', values=['SpatialDropout2D', 'Dropout']) == 'SpatialDropout2D':\n",
    "        dropoutType = SpatialDropout2D\n",
    "    else:\n",
    "        dropoutType = Dropout\n",
    "\n",
    "    input1 = Input(shape=(Chans, Samples, 1))\n",
    "\n",
    "    block1 = Conv2D(F1, (1, kernLength), padding='same', input_shape=(Chans, Samples, 1), use_bias=False)(input1)\n",
    "    block1 = BatchNormalization()(block1)\n",
    "    block1 = DepthwiseConv2D((Chans, 1), use_bias=False, depth_multiplier=D, depthwise_constraint=max_norm(1.))(block1)\n",
    "    block1 = BatchNormalization()(block1)\n",
    "    block1 = Activation('elu')(block1)\n",
    "    block1 = AveragePooling2D((1, 4))(block1)\n",
    "    block1 = dropoutType(dropoutRate)(block1)\n",
    "\n",
    "    block2 = SeparableConv2D(F2, (1, 16), use_bias=False, padding='same')(block1)\n",
    "    block2 = BatchNormalization()(block2)\n",
    "    block2 = Activation('elu')(block2)\n",
    "    block2 = AveragePooling2D((1, 8))(block2)\n",
    "    block2 = dropoutType(dropoutRate)(block2)\n",
    "\n",
    "    flatten = Flatten(name='flatten')(block2)\n",
    "\n",
    "    dense = Dense(nb_classes, name='dense', kernel_constraint=max_norm(norm_rate))(flatten)\n",
    "    softmax = Activation('softmax', name='softmax')(dense)\n",
    "\n",
    "    model = Model(inputs=input1, outputs=softmax)\n",
    "\n",
    "    sgd = SGD(learning_rate=hp.Float('learning_rate', min_value=1e-5, max_value=1e-2, sampling='log'))\n",
    "    \n",
    "    model.compile(loss='sparse_categorical_crossentropy', optimizer=sgd, metrics=['accuracy'])\n",
    "\n",
    "    return model\n",
    "# if the code only run once this is needed\n",
    "train_X = np.transpose(train_X, (0, 2, 1))\n",
    "train_X = np.expand_dims(train_X, axis=-1)\n",
    "test_X = np.transpose(test_X, (0, 2, 1))\n",
    "test_X = np.expand_dims(test_X, axis=-1)\n",
    "\n",
    "val_data = (test_X, test_label)\n",
    "# Instantiate the tuner\n",
    "tuner = RandomSearch(\n",
    "    build_eegnet_model,\n",
    "    objective='val_accuracy',\n",
    "    max_trials=20,\n",
    "    directory='eegnet_tuner_dir',\n",
    "    project_name='eegnet_tuning'\n",
    ")\n",
    "\n",
    "# Define early stopping callback\n",
    "early_stopping = EarlyStopping(monitor='val_loss', patience=5)\n",
    "\n",
    "# Perform the hyperparameter search\n",
    "tuner.search(train_X, train_label,\n",
    "             epochs=50,\n",
    "             validation_data=val_data,\n",
    "             callbacks=[early_stopping])\n"
   ]
  },
  {
   "cell_type": "code",
   "execution_count": 24,
   "id": "1be6e04e",
   "metadata": {
    "execution": {
     "iopub.execute_input": "2024-03-12T03:16:36.441808Z",
     "iopub.status.busy": "2024-03-12T03:16:36.441463Z",
     "iopub.status.idle": "2024-03-12T03:16:39.010836Z",
     "shell.execute_reply": "2024-03-12T03:16:39.009837Z"
    },
    "papermill": {
     "duration": 2.58293,
     "end_time": "2024-03-12T03:16:39.013664",
     "exception": false,
     "start_time": "2024-03-12T03:16:36.430734",
     "status": "completed"
    },
    "tags": []
   },
   "outputs": [
    {
     "name": "stdout",
     "output_type": "stream",
     "text": [
      "Best Hyperparameters: {'dropout_rate': 0.5, 'kern_length': 32, 'F1': 36, 'D': 3, 'norm_rate': 0.30000000000000004, 'dropout_type': 'Dropout', 'learning_rate': 0.005788173875047113}\n",
      "Best Trial ID: 11\n",
      "\u001b[1m13/13\u001b[0m \u001b[32m━━━━━━━━━━━━━━━━━━━━\u001b[0m\u001b[37m\u001b[0m \u001b[1m1s\u001b[0m 45ms/step - accuracy: 0.6621 - loss: 0.6194\n"
     ]
    },
    {
     "name": "stderr",
     "output_type": "stream",
     "text": [
      "W0000 00:00:1710213398.655545      69 graph_launch.cc:671] Fallback to op-by-op mode because memset node breaks graph update\n"
     ]
    }
   ],
   "source": [
    "# Get the best hyperparameters\n",
    "best_hp = tuner.oracle.get_best_trials(num_trials=1)[0].hyperparameters.values\n",
    "print(\"Best Hyperparameters:\", best_hp)\n",
    "\n",
    "best_trial = tuner.oracle.get_best_trials(num_trials=1)[0]\n",
    "\n",
    "\n",
    "print(\"Best Trial ID:\", best_trial.trial_id)\n",
    "\n",
    "# Build the final model with the best hyperparameters\n",
    "final_model = tuner.get_best_models(num_models=1)[0]\n",
    "test_accuracy = final_model.evaluate(test_X, test_label)[1]"
   ]
  }
 ],
 "metadata": {
  "accelerator": "GPU",
  "colab": {
   "provenance": []
  },
  "kaggle": {
   "accelerator": "gpu",
   "dataSources": [
    {
     "datasetId": 3008205,
     "sourceId": 5175158,
     "sourceType": "datasetVersion"
    }
   ],
   "dockerImageVersionId": 30665,
   "isGpuEnabled": true,
   "isInternetEnabled": false,
   "language": "python",
   "sourceType": "notebook"
  },
  "kernelspec": {
   "display_name": "Python 3",
   "language": "python",
   "name": "python3"
  },
  "language_info": {
   "codemirror_mode": {
    "name": "ipython",
    "version": 3
   },
   "file_extension": ".py",
   "mimetype": "text/x-python",
   "name": "python",
   "nbconvert_exporter": "python",
   "pygments_lexer": "ipython3",
   "version": "3.10.13"
  },
  "papermill": {
   "default_parameters": {},
   "duration": 12556.457981,
   "end_time": "2024-03-12T03:16:42.278679",
   "environment_variables": {},
   "exception": null,
   "input_path": "__notebook__.ipynb",
   "output_path": "__notebook__.ipynb",
   "parameters": {},
   "start_time": "2024-03-11T23:47:25.820698",
   "version": "2.5.0"
  }
 },
 "nbformat": 4,
 "nbformat_minor": 5
}
