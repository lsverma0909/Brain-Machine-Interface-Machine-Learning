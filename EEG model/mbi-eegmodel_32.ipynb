{
 "cells": [
  {
   "cell_type": "code",
   "execution_count": 1,
   "id": "49ecc478",
   "metadata": {
    "execution": {
     "iopub.execute_input": "2024-03-12T06:44:03.129236Z",
     "iopub.status.busy": "2024-03-12T06:44:03.128337Z",
     "iopub.status.idle": "2024-03-12T06:44:15.691594Z",
     "shell.execute_reply": "2024-03-12T06:44:15.690551Z"
    },
    "id": "faSd8_sTLvKE",
    "papermill": {
     "duration": 12.577232,
     "end_time": "2024-03-12T06:44:15.694116",
     "exception": false,
     "start_time": "2024-03-12T06:44:03.116884",
     "status": "completed"
    },
    "tags": []
   },
   "outputs": [
    {
     "name": "stderr",
     "output_type": "stream",
     "text": [
      "2024-03-12 06:44:04.969798: E external/local_xla/xla/stream_executor/cuda/cuda_dnn.cc:9261] Unable to register cuDNN factory: Attempting to register factory for plugin cuDNN when one has already been registered\n",
      "2024-03-12 06:44:04.969897: E external/local_xla/xla/stream_executor/cuda/cuda_fft.cc:607] Unable to register cuFFT factory: Attempting to register factory for plugin cuFFT when one has already been registered\n",
      "2024-03-12 06:44:05.104045: E external/local_xla/xla/stream_executor/cuda/cuda_blas.cc:1515] Unable to register cuBLAS factory: Attempting to register factory for plugin cuBLAS when one has already been registered\n"
     ]
    }
   ],
   "source": [
    "import keras"
   ]
  },
  {
   "cell_type": "markdown",
   "id": "805b0d84",
   "metadata": {
    "id": "BAbUeGQKufgp",
    "papermill": {
     "duration": 0.00853,
     "end_time": "2024-03-12T06:44:15.712409",
     "exception": false,
     "start_time": "2024-03-12T06:44:15.703879",
     "status": "completed"
    },
    "tags": []
   },
   "source": [
    "### Read in data in .mat format"
   ]
  },
  {
   "cell_type": "code",
   "execution_count": 2,
   "id": "ab0f0f3b",
   "metadata": {
    "execution": {
     "iopub.execute_input": "2024-03-12T06:44:15.731263Z",
     "iopub.status.busy": "2024-03-12T06:44:15.730663Z",
     "iopub.status.idle": "2024-03-12T06:44:15.786707Z",
     "shell.execute_reply": "2024-03-12T06:44:15.785763Z"
    },
    "id": "RYGIeVn0NN2E",
    "papermill": {
     "duration": 0.068183,
     "end_time": "2024-03-12T06:44:15.789199",
     "exception": false,
     "start_time": "2024-03-12T06:44:15.721016",
     "status": "completed"
    },
    "tags": []
   },
   "outputs": [],
   "source": [
    "import scipy.io as sio\n",
    "import matplotlib.pyplot as plt"
   ]
  },
  {
   "cell_type": "markdown",
   "id": "a758fd85",
   "metadata": {
    "id": "NgJy6fAbQVZ6",
    "papermill": {
     "duration": 0.008765,
     "end_time": "2024-03-12T06:44:15.806887",
     "exception": false,
     "start_time": "2024-03-12T06:44:15.798122",
     "status": "completed"
    },
    "tags": []
   },
   "source": [
    "#### Load All subjects' data"
   ]
  },
  {
   "cell_type": "code",
   "execution_count": 3,
   "id": "5c514f61",
   "metadata": {
    "execution": {
     "iopub.execute_input": "2024-03-12T06:44:15.825856Z",
     "iopub.status.busy": "2024-03-12T06:44:15.825279Z",
     "iopub.status.idle": "2024-03-12T06:46:01.670822Z",
     "shell.execute_reply": "2024-03-12T06:46:01.669878Z"
    },
    "id": "9jYFCUhTwQxK",
    "outputId": "86220268-a2a9-4d95-92f1-6440cf7ef18a",
    "papermill": {
     "duration": 105.867459,
     "end_time": "2024-03-12T06:46:01.682978",
     "exception": false,
     "start_time": "2024-03-12T06:44:15.815519",
     "status": "completed"
    },
    "tags": []
   },
   "outputs": [
    {
     "data": {
      "text/plain": [
       "dict_keys(['__header__', '__version__', '__globals__', 'eeg'])"
      ]
     },
     "execution_count": 3,
     "metadata": {},
     "output_type": "execute_result"
    }
   ],
   "source": [
    "s01 = sio.loadmat('/kaggle/input/GIGA_MI_ME/s01.mat')\n",
    "s12 = sio.loadmat('/kaggle/input/GIGA_MI_ME/s12.mat')\n",
    "s13 = sio.loadmat('/kaggle/input/GIGA_MI_ME/s13.mat')\n",
    "s03 = sio.loadmat('/kaggle/input/GIGA_MI_ME/s03.mat')\n",
    "s14 = sio.loadmat('/kaggle/input/GIGA_MI_ME/s14.mat')\n",
    "s32 = sio.loadmat('/kaggle/input/GIGA_MI_ME/s32.mat')\n",
    "s40 = sio.loadmat('/kaggle/input/GIGA_MI_ME/s40.mat')\n",
    "s41 = sio.loadmat('/kaggle/input/GIGA_MI_ME/s41.mat')\n",
    "s49 = sio.loadmat('/kaggle/input/GIGA_MI_ME/s49.mat')\n",
    "s47 = sio.loadmat('/kaggle/input/GIGA_MI_ME/s47.mat')\n",
    "#3/14:\n",
    "# s29 = sio.loadmat('/kaggle/input/GIGA_MI_ME/s29.mat')\n",
    "s30 = sio.loadmat('/kaggle/input/GIGA_MI_ME/s30.mat')\n",
    "s31 = sio.loadmat('/kaggle/input/GIGA_MI_ME/s31.mat')\n",
    "s33 = sio.loadmat('/kaggle/input/GIGA_MI_ME/s33.mat')\n",
    "# s34 = sio.loadmat('/content/drive/My Drive/eeg dataset/3:14/s34.mat') bad subject\n",
    "s35 = sio.loadmat('/kaggle/input/GIGA_MI_ME/s35.mat')\n",
    "s36 = sio.loadmat('/kaggle/input/GIGA_MI_ME/s36.mat')\n",
    "s37 = sio.loadmat('/kaggle/input/GIGA_MI_ME/s37.mat')\n",
    "s38 = sio.loadmat('/kaggle/input/GIGA_MI_ME/s38.mat')\n",
    "s39 = sio.loadmat('/kaggle/input/GIGA_MI_ME/s39.mat')\n",
    "s42 = sio.loadmat('/kaggle/input/GIGA_MI_ME/s42.mat')\n",
    "s43 = sio.loadmat('/kaggle/input/GIGA_MI_ME/s43.mat')\n",
    "s44 = sio.loadmat('/kaggle/input/GIGA_MI_ME/s44.mat')\n",
    "s45 = sio.loadmat('/kaggle/input/GIGA_MI_ME/s45.mat')\n",
    "s46 = sio.loadmat('/kaggle/input/GIGA_MI_ME/s46.mat')\n",
    "s48 = sio.loadmat('/kaggle/input/GIGA_MI_ME/s48.mat')\n",
    "s50 = sio.loadmat('/kaggle/input/GIGA_MI_ME/s50.mat')\n",
    "s51 = sio.loadmat('/kaggle/input/GIGA_MI_ME/s51.mat')\n",
    "s52 = sio.loadmat('/kaggle/input/GIGA_MI_ME/s52.mat')\n",
    "# s29 = sio.loadmat('/content/drive/My Drive/eeg dataset/03:09/s02.mat') bad subject\n",
    "s01.keys()\n"
   ]
  },
  {
   "cell_type": "code",
   "execution_count": 5,
   "id": "168e6218",
   "metadata": {
    "execution": {
     "iopub.execute_input": "2024-03-12T06:46:01.731410Z",
     "iopub.status.busy": "2024-03-12T06:46:01.730653Z",
     "iopub.status.idle": "2024-03-12T06:46:01.739080Z",
     "shell.execute_reply": "2024-03-12T06:46:01.738114Z"
    },
    "id": "DIoIKPXOveuR",
    "papermill": {
     "duration": 0.021584,
     "end_time": "2024-03-12T06:46:01.741266",
     "exception": false,
     "start_time": "2024-03-12T06:46:01.719682",
     "status": "completed"
    },
    "scrolled": true,
    "tags": []
   },
   "outputs": [],
   "source": [
    "dataset = []\n",
    "dataset.append(s01)\n",
    "dataset.append(s12)\n",
    "dataset.append(s13)\n",
    "dataset.append(s03)\n",
    "dataset.append(s14)\n",
    "dataset.append(s32)\n",
    "dataset.append(s40)\n",
    "dataset.append(s41)\n",
    "dataset.append(s43)\n",
    "dataset.append(s49)\n",
    "dataset.append(s47)\n",
    "# dataset.append(s29)\n",
    "dataset.append(s30)\n",
    "dataset.append(s31)\n",
    "dataset.append(s33)\n",
    "dataset.append(s35)\n",
    "dataset.append(s36)\n",
    "dataset.append(s37)\n",
    "dataset.append(s38)\n",
    "dataset.append(s39)\n",
    "dataset.append(s42)\n",
    "dataset.append(s44)\n",
    "dataset.append(s45)\n",
    "dataset.append(s46)\n",
    "dataset.append(s48)\n",
    "dataset.append(s50)\n",
    "dataset.append(s51)\n",
    "dataset.append(s52)"
   ]
  },
  {
   "cell_type": "code",
   "execution_count": 6,
   "id": "3fbef9c6",
   "metadata": {
    "execution": {
     "iopub.execute_input": "2024-03-12T06:46:01.761793Z",
     "iopub.status.busy": "2024-03-12T06:46:01.761524Z",
     "iopub.status.idle": "2024-03-12T06:47:31.876995Z",
     "shell.execute_reply": "2024-03-12T06:47:31.875623Z"
    },
    "id": "8ZWn2h3XvN1C",
    "papermill": {
     "duration": 90.128778,
     "end_time": "2024-03-12T06:47:31.879925",
     "exception": false,
     "start_time": "2024-03-12T06:46:01.751147",
     "status": "completed"
    },
    "tags": []
   },
   "outputs": [],
   "source": [
    "#3/09:\n",
    "s02 = sio.loadmat('/kaggle/input/GIGA_MI_ME/s02.mat')\n",
    "s04 = sio.loadmat('/kaggle/input/GIGA_MI_ME/s04.mat')\n",
    "s05 = sio.loadmat('/kaggle/input/GIGA_MI_ME/s05.mat')\n",
    "s06 = sio.loadmat('/kaggle/input/GIGA_MI_ME/s06.mat')\n",
    "s07 = sio.loadmat('/kaggle/input/GIGA_MI_ME/s07.mat')\n",
    "s08 = sio.loadmat('/kaggle/input/GIGA_MI_ME/s08.mat')\n",
    "s09 = sio.loadmat('/kaggle/input/GIGA_MI_ME/s09.mat')\n",
    "s10 = sio.loadmat('/kaggle/input/GIGA_MI_ME/s10.mat')\n",
    "s11 = sio.loadmat('/kaggle/input/GIGA_MI_ME/s11.mat')\n",
    "s15 = sio.loadmat('/kaggle/input/GIGA_MI_ME/s15.mat')\n",
    "s16 = sio.loadmat('/kaggle/input/GIGA_MI_ME/s16.mat')\n",
    "s17 = sio.loadmat('/kaggle/input/GIGA_MI_ME/s17.mat')\n",
    "s18 = sio.loadmat('/kaggle/input/GIGA_MI_ME/s18.mat')\n",
    "s19 = sio.loadmat('/kaggle/input/GIGA_MI_ME/s19.mat')\n",
    "s20 = sio.loadmat('/kaggle/input/GIGA_MI_ME/s20.mat')\n",
    "s21 = sio.loadmat('/kaggle/input/GIGA_MI_ME/s21.mat')\n",
    "s22 = sio.loadmat('/kaggle/input/GIGA_MI_ME/s22.mat')\n",
    "s23 = sio.loadmat('/kaggle/input/GIGA_MI_ME/s23.mat')\n",
    "s24 = sio.loadmat('/kaggle/input/GIGA_MI_ME/s24.mat')\n",
    "s25 = sio.loadmat('/kaggle/input/GIGA_MI_ME/s25.mat')\n",
    "s26 = sio.loadmat('/kaggle/input/GIGA_MI_ME/s26.mat')\n",
    "s27 = sio.loadmat('/kaggle/input/GIGA_MI_ME/s27.mat')\n",
    "s28 = sio.loadmat('/kaggle/input/GIGA_MI_ME/s28.mat')\n"
   ]
  },
  {
   "cell_type": "code",
   "execution_count": 7,
   "id": "91248e55",
   "metadata": {
    "execution": {
     "iopub.execute_input": "2024-03-12T06:47:31.902534Z",
     "iopub.status.busy": "2024-03-12T06:47:31.901559Z",
     "iopub.status.idle": "2024-03-12T06:47:31.910332Z",
     "shell.execute_reply": "2024-03-12T06:47:31.909594Z"
    },
    "id": "WTzNCEnqB8h0",
    "papermill": {
     "duration": 0.021755,
     "end_time": "2024-03-12T06:47:31.912388",
     "exception": false,
     "start_time": "2024-03-12T06:47:31.890633",
     "status": "completed"
    },
    "tags": []
   },
   "outputs": [],
   "source": [
    "dataset.append(s02)\n",
    "dataset.append(s04)\n",
    "dataset.append(s05)\n",
    "dataset.append(s06)\n",
    "dataset.append(s07)\n",
    "dataset.append(s08)\n",
    "dataset.append(s09)\n",
    "dataset.append(s10)\n",
    "dataset.append(s11)\n",
    "dataset.append(s15)\n",
    "dataset.append(s16)\n",
    "dataset.append(s17)\n",
    "dataset.append(s18)\n",
    "dataset.append(s19)\n",
    "dataset.append(s20)\n",
    "dataset.append(s21)\n",
    "dataset.append(s22)\n",
    "dataset.append(s23)\n",
    "dataset.append(s24)\n",
    "dataset.append(s25)\n",
    "dataset.append(s26)\n",
    "dataset.append(s27)\n",
    "dataset.append(s28)"
   ]
  },
  {
   "cell_type": "markdown",
   "id": "84fa42e8",
   "metadata": {
    "id": "G3jTMzi3QIVB",
    "papermill": {
     "duration": 0.00959,
     "end_time": "2024-03-12T06:47:31.931758",
     "exception": false,
     "start_time": "2024-03-12T06:47:31.922168",
     "status": "completed"
    },
    "tags": []
   },
   "source": [
    "### Data Processing Function:"
   ]
  },
  {
   "cell_type": "code",
   "execution_count": 8,
   "id": "91f6b067",
   "metadata": {
    "execution": {
     "iopub.execute_input": "2024-03-12T06:47:31.953280Z",
     "iopub.status.busy": "2024-03-12T06:47:31.952457Z",
     "iopub.status.idle": "2024-03-12T06:47:31.965419Z",
     "shell.execute_reply": "2024-03-12T06:47:31.964434Z"
    },
    "id": "xHxSRo-2zEkx",
    "papermill": {
     "duration": 0.026252,
     "end_time": "2024-03-12T06:47:31.967612",
     "exception": false,
     "start_time": "2024-03-12T06:47:31.941360",
     "status": "completed"
    },
    "tags": []
   },
   "outputs": [],
   "source": [
    "class get_data():\n",
    "\n",
    "    def __init__(self, mat_input):\n",
    "        self.mat_input = mat_input\n",
    "\n",
    "    def get_movement(self):\n",
    "        movement_left = []\n",
    "        movement_right = []\n",
    "        movement_event = []\n",
    "        sliced_left = []\n",
    "        sliced_right = []\n",
    "        index = []\n",
    "        movement_event = self.mat_input['eeg']['movement_event'][0][0][0]\n",
    "        # get raw dataset\n",
    "#         for i in range(len(self.mat_input['eeg']['movement_left'][0][0])-4):\n",
    "        for i in [1, 34, 37, 7, 5, 38, 40, 42, 47, 11, 46, 9, 44, 48, 13, 50, 52, 15, 19, 56, 17, 54, 23, 21, 31, 58, 60, 27, 29, 64, 2, 63]:\n",
    "            movement_left.append(self.mat_input['eeg']['movement_left'][0][0][i])\n",
    "            movement_right.append(self.mat_input['eeg']['movement_right'][0][0][i])\n",
    "        #get onset (starting pt) of movement_event:\n",
    "        for q in range(len(movement_event)):\n",
    "            if movement_event[q] == 1:\n",
    "                  index.append(q)\n",
    "        #slice movement_left and right to only keep actice region:\n",
    "        for x in range(len(index)):\n",
    "            temp_left = []\n",
    "            temp_right = []\n",
    "            for j in range(len(movement_left)):\n",
    "                start_index = index[x]\n",
    "                end_index = start_index + 1536 #three seconds for a period\n",
    "                temp_left.append(movement_left[j][start_index:end_index])\n",
    "                temp_right.append(movement_right[j][start_index:end_index])\n",
    "            sliced_left.append(temp_left)\n",
    "            sliced_right.append(temp_right)\n",
    "        return sliced_left, sliced_right, index, movement_left, movement_right"
   ]
  },
  {
   "cell_type": "markdown",
   "id": "34307b13",
   "metadata": {
    "id": "oMn0Xf6kesf4",
    "papermill": {
     "duration": 0.009308,
     "end_time": "2024-03-12T06:47:31.986868",
     "exception": false,
     "start_time": "2024-03-12T06:47:31.977560",
     "status": "completed"
    },
    "tags": []
   },
   "source": [
    "### Load the data (choose one to run)"
   ]
  },
  {
   "cell_type": "code",
   "execution_count": 9,
   "id": "b62dac0b",
   "metadata": {
    "execution": {
     "iopub.execute_input": "2024-03-12T06:47:32.007575Z",
     "iopub.status.busy": "2024-03-12T06:47:32.007247Z",
     "iopub.status.idle": "2024-03-12T06:47:41.961579Z",
     "shell.execute_reply": "2024-03-12T06:47:41.960725Z"
    },
    "id": "Ua5r3J5k7DVu",
    "papermill": {
     "duration": 9.96784,
     "end_time": "2024-03-12T06:47:41.964058",
     "exception": false,
     "start_time": "2024-03-12T06:47:31.996218",
     "status": "completed"
    },
    "tags": []
   },
   "outputs": [],
   "source": [
    "import numpy as np\n",
    "left = []\n",
    "right = []\n",
    "for s in dataset:\n",
    "    data1 = get_data(s)\n",
    "    left1 = []\n",
    "    right1 = []\n",
    "    event1 = []\n",
    "    left1, right1, event1, img_left1, img_right1 = data1.get_movement()\n",
    "    left += left1\n",
    "    right += right1"
   ]
  },
  {
   "cell_type": "code",
   "execution_count": 10,
   "id": "bc9b3797",
   "metadata": {
    "execution": {
     "iopub.execute_input": "2024-03-12T06:47:41.986001Z",
     "iopub.status.busy": "2024-03-12T06:47:41.985183Z",
     "iopub.status.idle": "2024-03-12T06:47:42.137057Z",
     "shell.execute_reply": "2024-03-12T06:47:42.136105Z"
    },
    "papermill": {
     "duration": 0.164964,
     "end_time": "2024-03-12T06:47:42.139174",
     "exception": false,
     "start_time": "2024-03-12T06:47:41.974210",
     "status": "completed"
    },
    "tags": []
   },
   "outputs": [
    {
     "name": "stdout",
     "output_type": "stream",
     "text": [
      "(1000, 32, 1536)\n"
     ]
    }
   ],
   "source": [
    "leftnp = np.array(left)\n",
    "print(leftnp.shape)"
   ]
  },
  {
   "cell_type": "code",
   "execution_count": 11,
   "id": "ae01671f",
   "metadata": {
    "execution": {
     "iopub.execute_input": "2024-03-12T06:47:42.160647Z",
     "iopub.status.busy": "2024-03-12T06:47:42.159919Z",
     "iopub.status.idle": "2024-03-12T06:47:42.164267Z",
     "shell.execute_reply": "2024-03-12T06:47:42.163355Z"
    },
    "papermill": {
     "duration": 0.016721,
     "end_time": "2024-03-12T06:47:42.166307",
     "exception": false,
     "start_time": "2024-03-12T06:47:42.149586",
     "status": "completed"
    },
    "tags": []
   },
   "outputs": [],
   "source": [
    "import matplotlib.pyplot as plt"
   ]
  },
  {
   "cell_type": "code",
   "execution_count": 12,
   "id": "e3d74058",
   "metadata": {
    "execution": {
     "iopub.execute_input": "2024-03-12T06:47:42.186152Z",
     "iopub.status.busy": "2024-03-12T06:47:42.185802Z",
     "iopub.status.idle": "2024-03-12T06:47:42.192745Z",
     "shell.execute_reply": "2024-03-12T06:47:42.191868Z"
    },
    "id": "yV4yqhE0cLQH",
    "papermill": {
     "duration": 0.019494,
     "end_time": "2024-03-12T06:47:42.194866",
     "exception": false,
     "start_time": "2024-03-12T06:47:42.175372",
     "status": "completed"
    },
    "tags": []
   },
   "outputs": [],
   "source": [
    "def filter(input_array, window_size):\n",
    "    total = []\n",
    "    window = window_size\n",
    "    new_length = 0\n",
    "    for i in range(len(input_array)):\n",
    "        one_trail = []\n",
    "        for k in range(len(input_array[i])):\n",
    "            one_channel = []\n",
    "            for y in range(len(input_array[i][k])):\n",
    "                if y >= window:\n",
    "                    sum = input_array[i][k][y-window:y].sum()\n",
    "                    avg = sum / window\n",
    "                    one_channel.append(avg)\n",
    "            one_trail.append(one_channel)\n",
    "            new_length = len(one_channel)\n",
    "        total.append(one_trail)\n",
    "    return total, new_length\n"
   ]
  },
  {
   "cell_type": "code",
   "execution_count": 13,
   "id": "171d8af0",
   "metadata": {
    "execution": {
     "iopub.execute_input": "2024-03-12T06:47:42.215266Z",
     "iopub.status.busy": "2024-03-12T06:47:42.214350Z",
     "iopub.status.idle": "2024-03-12T06:58:33.585144Z",
     "shell.execute_reply": "2024-03-12T06:58:33.584202Z"
    },
    "id": "qXfNsa9lcgNo",
    "papermill": {
     "duration": 651.383819,
     "end_time": "2024-03-12T06:58:33.587881",
     "exception": false,
     "start_time": "2024-03-12T06:47:42.204062",
     "status": "completed"
    },
    "tags": []
   },
   "outputs": [],
   "source": [
    "left, new_timesteps = filter(left, 32)\n",
    "right, new_timesteps = filter(right, 32)"
   ]
  },
  {
   "cell_type": "code",
   "execution_count": 14,
   "id": "b90f20c0",
   "metadata": {
    "execution": {
     "iopub.execute_input": "2024-03-12T06:58:33.629628Z",
     "iopub.status.busy": "2024-03-12T06:58:33.629244Z",
     "iopub.status.idle": "2024-03-12T06:58:33.634819Z",
     "shell.execute_reply": "2024-03-12T06:58:33.633945Z"
    },
    "id": "Y13f6Nq0qw4g",
    "papermill": {
     "duration": 0.018579,
     "end_time": "2024-03-12T06:58:33.636769",
     "exception": false,
     "start_time": "2024-03-12T06:58:33.618190",
     "status": "completed"
    },
    "tags": []
   },
   "outputs": [],
   "source": [
    "def reshape(input_array):\n",
    "    output_array = [] #should have 100 elements (arrays)\n",
    "    # channel_array = [] #should have 64 elements\n",
    "    for i in range(len(input_array)):\n",
    "        each_trail = []\n",
    "        before_trans = np.array(input_array[i])\n",
    "        output_array.append(before_trans.transpose())\n",
    "    return output_array"
   ]
  },
  {
   "cell_type": "code",
   "execution_count": 15,
   "id": "98c760fd",
   "metadata": {
    "execution": {
     "iopub.execute_input": "2024-03-12T06:58:33.656399Z",
     "iopub.status.busy": "2024-03-12T06:58:33.656089Z",
     "iopub.status.idle": "2024-03-12T06:58:43.742269Z",
     "shell.execute_reply": "2024-03-12T06:58:43.741433Z"
    },
    "id": "kjjGv8ulOh8S",
    "papermill": {
     "duration": 10.098755,
     "end_time": "2024-03-12T06:58:43.744666",
     "exception": false,
     "start_time": "2024-03-12T06:58:33.645911",
     "status": "completed"
    },
    "tags": []
   },
   "outputs": [],
   "source": [
    "right = reshape(right) #reshape array for the network\n",
    "left = reshape(left)"
   ]
  },
  {
   "cell_type": "code",
   "execution_count": 16,
   "id": "95bc7a14",
   "metadata": {
    "execution": {
     "iopub.execute_input": "2024-03-12T06:58:43.783608Z",
     "iopub.status.busy": "2024-03-12T06:58:43.782782Z",
     "iopub.status.idle": "2024-03-12T06:58:44.549591Z",
     "shell.execute_reply": "2024-03-12T06:58:44.548764Z"
    },
    "id": "UWovGQxJbUJs",
    "papermill": {
     "duration": 0.779647,
     "end_time": "2024-03-12T06:58:44.552048",
     "exception": false,
     "start_time": "2024-03-12T06:58:43.772401",
     "status": "completed"
    },
    "tags": []
   },
   "outputs": [],
   "source": [
    "from sklearn.preprocessing import StandardScaler\n",
    "def normalize(input_data):\n",
    "    output_data = []\n",
    "    for i in range(len(input_data)):\n",
    "        scaler = StandardScaler()\n",
    "        scaler.fit(input_data[i])\n",
    "        scaled_X = scaler.transform(input_data[i])\n",
    "        output_data.append(scaled_X)\n",
    "    return output_data"
   ]
  },
  {
   "cell_type": "code",
   "execution_count": 17,
   "id": "d79f97f3",
   "metadata": {
    "execution": {
     "iopub.execute_input": "2024-03-12T06:58:44.572520Z",
     "iopub.status.busy": "2024-03-12T06:58:44.571525Z",
     "iopub.status.idle": "2024-03-12T06:58:46.441863Z",
     "shell.execute_reply": "2024-03-12T06:58:46.441013Z"
    },
    "id": "yE53msmTMepw",
    "papermill": {
     "duration": 1.883001,
     "end_time": "2024-03-12T06:58:46.444257",
     "exception": false,
     "start_time": "2024-03-12T06:58:44.561256",
     "status": "completed"
    },
    "tags": []
   },
   "outputs": [],
   "source": [
    "left = normalize(left)\n",
    "right = normalize(right)"
   ]
  },
  {
   "cell_type": "code",
   "execution_count": 18,
   "id": "c3afa42b",
   "metadata": {
    "execution": {
     "iopub.execute_input": "2024-03-12T06:58:46.464804Z",
     "iopub.status.busy": "2024-03-12T06:58:46.464200Z",
     "iopub.status.idle": "2024-03-12T06:58:46.474963Z",
     "shell.execute_reply": "2024-03-12T06:58:46.474102Z"
    },
    "id": "i2N1ulEfY_J9",
    "papermill": {
     "duration": 0.023242,
     "end_time": "2024-03-12T06:58:46.476998",
     "exception": false,
     "start_time": "2024-03-12T06:58:46.453756",
     "status": "completed"
    },
    "tags": []
   },
   "outputs": [],
   "source": [
    "label = []\n",
    "X = []\n",
    "for i in range(len(left)):\n",
    "    label.append([0]) #set left to 1 and right to 0\n",
    "    X.append(left[i])\n",
    "for y in range(len(right)):\n",
    "    label.append([1])\n",
    "    X.append(right[y])\n",
    "\n",
    "#shuffle arrays for randomness:\n",
    "import random\n",
    "temp = list(zip(X, label))\n",
    "random.seed(1)\n",
    "random.shuffle(temp)\n",
    "X, label = zip(*temp)"
   ]
  },
  {
   "cell_type": "markdown",
   "id": "a6325e69",
   "metadata": {
    "id": "MaCJYHY11vhN",
    "papermill": {
     "duration": 0.008927,
     "end_time": "2024-03-12T06:58:46.495033",
     "exception": false,
     "start_time": "2024-03-12T06:58:46.486106",
     "status": "completed"
    },
    "tags": []
   },
   "source": [
    "#### Transfer into numpy array"
   ]
  },
  {
   "cell_type": "code",
   "execution_count": 19,
   "id": "2f8cbd3b",
   "metadata": {
    "execution": {
     "iopub.execute_input": "2024-03-12T06:58:46.515179Z",
     "iopub.status.busy": "2024-03-12T06:58:46.514531Z",
     "iopub.status.idle": "2024-03-12T06:58:47.010022Z",
     "shell.execute_reply": "2024-03-12T06:58:47.008173Z"
    },
    "id": "VLm7sxjnvLsS",
    "papermill": {
     "duration": 0.510118,
     "end_time": "2024-03-12T06:58:47.014251",
     "exception": false,
     "start_time": "2024-03-12T06:58:46.504133",
     "status": "completed"
    },
    "tags": []
   },
   "outputs": [],
   "source": [
    "label = np.array(label)\n",
    "X = np.array(X)"
   ]
  },
  {
   "cell_type": "code",
   "execution_count": 21,
   "id": "79ba5f36",
   "metadata": {
    "execution": {
     "iopub.execute_input": "2024-03-12T06:58:47.076292Z",
     "iopub.status.busy": "2024-03-12T06:58:47.075346Z",
     "iopub.status.idle": "2024-03-12T06:58:50.112086Z",
     "shell.execute_reply": "2024-03-12T06:58:50.110987Z"
    },
    "id": "FspWgjtpc9ev",
    "papermill": {
     "duration": 3.051004,
     "end_time": "2024-03-12T06:58:50.114808",
     "exception": false,
     "start_time": "2024-03-12T06:58:47.063804",
     "status": "completed"
    },
    "tags": []
   },
   "outputs": [],
   "source": [
    "import math as math\n",
    "element_num = len(X)\n",
    "train_index = element_num * 0.8 #choose 80% for training and 20% for validation\n",
    "train_index = math.floor(train_index)\n",
    "scaled_X = normalize(X) #normalize input data\n",
    "scaled_X = np.array(scaled_X)\n",
    "train_X = scaled_X[:train_index]\n",
    "train_label = label[:train_index]\n",
    "test_X = scaled_X[train_index:]\n",
    "test_label = label[train_index:]"
   ]
  },
  {
   "cell_type": "markdown",
   "id": "af0ed29a",
   "metadata": {
    "id": "P8uo2aw6L_mZ",
    "papermill": {
     "duration": 0.008924,
     "end_time": "2024-03-12T06:58:50.162442",
     "exception": false,
     "start_time": "2024-03-12T06:58:50.153518",
     "status": "completed"
    },
    "tags": []
   },
   "source": [
    "### Build the neraul network"
   ]
  },
  {
   "cell_type": "markdown",
   "id": "e6a6a6bb",
   "metadata": {
    "id": "bL69Q4ll-liF",
    "papermill": {
     "duration": 0.009007,
     "end_time": "2024-03-12T06:58:50.180500",
     "exception": false,
     "start_time": "2024-03-12T06:58:50.171493",
     "status": "completed"
    },
    "tags": []
   },
   "source": [
    "#### CNN"
   ]
  },
  {
   "cell_type": "code",
   "execution_count": 23,
   "id": "8e716b62",
   "metadata": {
    "execution": {
     "iopub.execute_input": "2024-03-12T06:58:50.201517Z",
     "iopub.status.busy": "2024-03-12T06:58:50.200581Z",
     "iopub.status.idle": "2024-03-12T08:07:26.274875Z",
     "shell.execute_reply": "2024-03-12T08:07:26.273996Z"
    },
    "id": "wELfDkAf-njt",
    "outputId": "3696123b-636c-482e-bd96-37bbfc94a064",
    "papermill": {
     "duration": 4116.087613,
     "end_time": "2024-03-12T08:07:26.277342",
     "exception": false,
     "start_time": "2024-03-12T06:58:50.189729",
     "status": "completed"
    },
    "tags": []
   },
   "outputs": [
    {
     "name": "stdout",
     "output_type": "stream",
     "text": [
      "Trial 20 Complete [00h 09m 20s]\n",
      "val_accuracy: 0.6299999952316284\n",
      "\n",
      "Best val_accuracy So Far: 0.6424999833106995\n",
      "Total elapsed time: 01h 08m 35s\n"
     ]
    }
   ],
   "source": [
    "from tensorflow.keras.models import Model\n",
    "from tensorflow.keras.layers import Input, Conv2D, BatchNormalization, DepthwiseConv2D, Activation, AveragePooling2D, Flatten, Dense\n",
    "from tensorflow.keras.layers import Dropout, SpatialDropout2D, SeparableConv2D\n",
    "from tensorflow.keras.constraints import max_norm\n",
    "from tensorflow.keras.optimizers import SGD\n",
    "from kerastuner.tuners import RandomSearch\n",
    "from kerastuner.engine.hyperparameters import HyperParameter as hp\n",
    "from tensorflow.keras.callbacks import EarlyStopping\n",
    "def build_eegnet_model(hp):\n",
    "    Chans = 32\n",
    "    Samples = new_timesteps\n",
    "    nb_classes = 2  # You need to specify the correct number of classes\n",
    "    dropoutRate = hp.Float('dropout_rate', min_value=0.2, max_value=0.8, step=0.1)  # 调整dropout范围\n",
    "    kernLength = hp.Choice('kern_length', values=[32, 64, 128, 256])  # 添加更大的kernel长度\n",
    "    F1 = hp.Int('F1', min_value=4, max_value=96, step=4)  # 扩大F1范围\n",
    "    D = hp.Int('D', min_value=1, max_value=8)  # 扩大D的范围\n",
    "    norm_rate = hp.Float('norm_rate', min_value=0.1, max_value=1.0, step=0.1)\n",
    "    F2 = F1 * D\n",
    "    \n",
    "    if hp.Choice('dropout_type', values=['SpatialDropout2D', 'Dropout']) == 'SpatialDropout2D':\n",
    "        dropoutType = SpatialDropout2D\n",
    "    else:\n",
    "        dropoutType = Dropout\n",
    "\n",
    "    input1 = Input(shape=(Chans, Samples, 1))\n",
    "\n",
    "    block1 = Conv2D(F1, (1, kernLength), padding='same', input_shape=(Chans, Samples, 1), use_bias=False)(input1)\n",
    "    block1 = BatchNormalization()(block1)\n",
    "    block1 = DepthwiseConv2D((Chans, 1), use_bias=False, depth_multiplier=D, depthwise_constraint=max_norm(1.))(block1)\n",
    "    block1 = BatchNormalization()(block1)\n",
    "    block1 = Activation('elu')(block1)\n",
    "    block1 = AveragePooling2D((1, 4))(block1)\n",
    "    block1 = dropoutType(dropoutRate)(block1)\n",
    "\n",
    "    block2 = SeparableConv2D(F2, (1, 16), use_bias=False, padding='same')(block1)\n",
    "    block2 = BatchNormalization()(block2)\n",
    "    block2 = Activation('elu')(block2)\n",
    "    block2 = AveragePooling2D((1, 8))(block2)\n",
    "    block2 = dropoutType(dropoutRate)(block2)\n",
    "\n",
    "    flatten = Flatten(name='flatten')(block2)\n",
    "\n",
    "    dense = Dense(nb_classes, name='dense', kernel_constraint=max_norm(norm_rate))(flatten)\n",
    "    softmax = Activation('softmax', name='softmax')(dense)\n",
    "\n",
    "    model = Model(inputs=input1, outputs=softmax)\n",
    "\n",
    "    sgd = SGD(learning_rate=hp.Float('learning_rate', min_value=1e-5, max_value=1e-2, sampling='log'))\n",
    "    \n",
    "    model.compile(loss='sparse_categorical_crossentropy', optimizer=sgd, metrics=['accuracy'])\n",
    "\n",
    "    return model\n",
    "# if the code only run once this is needed\n",
    "train_X = np.transpose(train_X, (0, 2, 1))\n",
    "train_X = np.expand_dims(train_X, axis=-1)\n",
    "test_X = np.transpose(test_X, (0, 2, 1))\n",
    "test_X = np.expand_dims(test_X, axis=-1)\n",
    "\n",
    "val_data = (test_X, test_label)\n",
    "# Instantiate the tuner\n",
    "tuner = RandomSearch(\n",
    "    build_eegnet_model,\n",
    "    objective='val_accuracy',\n",
    "    max_trials=20,\n",
    "    directory='eegnet_tuner_dir',\n",
    "    project_name='eegnet_tuning'\n",
    ")\n",
    "\n",
    "# Define early stopping callback\n",
    "early_stopping = EarlyStopping(monitor='val_loss', patience=5)\n",
    "\n",
    "# Perform the hyperparameter search\n",
    "tuner.search(train_X, train_label,\n",
    "             epochs=50,\n",
    "             validation_data=val_data,\n",
    "             callbacks=[early_stopping])\n"
   ]
  },
  {
   "cell_type": "code",
   "execution_count": 24,
   "id": "77627c15",
   "metadata": {
    "execution": {
     "iopub.execute_input": "2024-03-12T08:07:26.297771Z",
     "iopub.status.busy": "2024-03-12T08:07:26.297459Z",
     "iopub.status.idle": "2024-03-12T08:07:28.182240Z",
     "shell.execute_reply": "2024-03-12T08:07:28.181338Z"
    },
    "papermill": {
     "duration": 1.897128,
     "end_time": "2024-03-12T08:07:28.184506",
     "exception": false,
     "start_time": "2024-03-12T08:07:26.287378",
     "status": "completed"
    },
    "tags": []
   },
   "outputs": [
    {
     "name": "stdout",
     "output_type": "stream",
     "text": [
      "Best Hyperparameters: {'dropout_rate': 0.5, 'kern_length': 128, 'F1': 32, 'D': 1, 'norm_rate': 0.5, 'dropout_type': 'Dropout', 'learning_rate': 0.0028258126970663526}\n",
      "Best Trial ID: 12\n",
      "\u001b[1m11/13\u001b[0m \u001b[32m━━━━━━━━━━━━━━━━\u001b[0m\u001b[37m━━━━\u001b[0m \u001b[1m0s\u001b[0m 10ms/step - accuracy: 0.6417 - loss: 0.6377"
     ]
    },
    {
     "name": "stderr",
     "output_type": "stream",
     "text": [
      "W0000 00:00:1710230847.715283      70 graph_launch.cc:671] Fallback to op-by-op mode because memset node breaks graph update\n"
     ]
    },
    {
     "name": "stdout",
     "output_type": "stream",
     "text": [
      "\u001b[1m13/13\u001b[0m \u001b[32m━━━━━━━━━━━━━━━━━━━━\u001b[0m\u001b[37m\u001b[0m \u001b[1m1s\u001b[0m 37ms/step - accuracy: 0.6420 - loss: 0.6382\n"
     ]
    }
   ],
   "source": [
    "# Get the best hyperparameters\n",
    "best_hp = tuner.oracle.get_best_trials(num_trials=1)[0].hyperparameters.values\n",
    "print(\"Best Hyperparameters:\", best_hp)\n",
    "\n",
    "best_trial = tuner.oracle.get_best_trials(num_trials=1)[0]\n",
    "\n",
    "\n",
    "print(\"Best Trial ID:\", best_trial.trial_id)\n",
    "\n",
    "# Build the final model with the best hyperparameters\n",
    "final_model = tuner.get_best_models(num_models=1)[0]\n",
    "test_accuracy = final_model.evaluate(test_X, test_label)[1]"
   ]
  }
 ],
 "metadata": {
  "accelerator": "GPU",
  "colab": {
   "provenance": []
  },
  "kaggle": {
   "accelerator": "gpu",
   "dataSources": [
    {
     "datasetId": 3008205,
     "sourceId": 5175158,
     "sourceType": "datasetVersion"
    }
   ],
   "dockerImageVersionId": 30665,
   "isGpuEnabled": true,
   "isInternetEnabled": false,
   "language": "python",
   "sourceType": "notebook"
  },
  "kernelspec": {
   "display_name": "Python 3",
   "language": "python",
   "name": "python3"
  },
  "language_info": {
   "codemirror_mode": {
    "name": "ipython",
    "version": 3
   },
   "file_extension": ".py",
   "mimetype": "text/x-python",
   "name": "python",
   "nbconvert_exporter": "python",
   "pygments_lexer": "ipython3",
   "version": "3.10.13"
  },
  "papermill": {
   "default_parameters": {},
   "duration": 5011.784019,
   "end_time": "2024-03-12T08:07:32.065362",
   "environment_variables": {},
   "exception": null,
   "input_path": "__notebook__.ipynb",
   "output_path": "__notebook__.ipynb",
   "parameters": {},
   "start_time": "2024-03-12T06:44:00.281343",
   "version": "2.5.0"
  }
 },
 "nbformat": 4,
 "nbformat_minor": 5
}
