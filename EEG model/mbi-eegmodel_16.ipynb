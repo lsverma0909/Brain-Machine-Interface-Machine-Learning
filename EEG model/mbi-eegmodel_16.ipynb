{
 "cells": [
  {
   "cell_type": "code",
   "execution_count": 1,
   "id": "73aaabd7",
   "metadata": {
    "execution": {
     "iopub.execute_input": "2024-03-12T00:01:50.453498Z",
     "iopub.status.busy": "2024-03-12T00:01:50.453146Z",
     "iopub.status.idle": "2024-03-12T00:02:03.088741Z",
     "shell.execute_reply": "2024-03-12T00:02:03.087933Z"
    },
    "id": "faSd8_sTLvKE",
    "papermill": {
     "duration": 12.650165,
     "end_time": "2024-03-12T00:02:03.091101",
     "exception": false,
     "start_time": "2024-03-12T00:01:50.440936",
     "status": "completed"
    },
    "tags": []
   },
   "outputs": [
    {
     "name": "stderr",
     "output_type": "stream",
     "text": [
      "2024-03-12 00:01:52.330257: E external/local_xla/xla/stream_executor/cuda/cuda_dnn.cc:9261] Unable to register cuDNN factory: Attempting to register factory for plugin cuDNN when one has already been registered\n",
      "2024-03-12 00:01:52.330360: E external/local_xla/xla/stream_executor/cuda/cuda_fft.cc:607] Unable to register cuFFT factory: Attempting to register factory for plugin cuFFT when one has already been registered\n",
      "2024-03-12 00:01:52.464538: E external/local_xla/xla/stream_executor/cuda/cuda_blas.cc:1515] Unable to register cuBLAS factory: Attempting to register factory for plugin cuBLAS when one has already been registered\n"
     ]
    }
   ],
   "source": [
    "import keras"
   ]
  },
  {
   "cell_type": "markdown",
   "id": "794726fc",
   "metadata": {
    "id": "BAbUeGQKufgp",
    "papermill": {
     "duration": 0.008577,
     "end_time": "2024-03-12T00:02:03.109013",
     "exception": false,
     "start_time": "2024-03-12T00:02:03.100436",
     "status": "completed"
    },
    "tags": []
   },
   "source": [
    "### Read in data in .mat format"
   ]
  },
  {
   "cell_type": "code",
   "execution_count": 2,
   "id": "3d34a021",
   "metadata": {
    "execution": {
     "iopub.execute_input": "2024-03-12T00:02:03.128288Z",
     "iopub.status.busy": "2024-03-12T00:02:03.127354Z",
     "iopub.status.idle": "2024-03-12T00:02:03.179678Z",
     "shell.execute_reply": "2024-03-12T00:02:03.178911Z"
    },
    "id": "RYGIeVn0NN2E",
    "papermill": {
     "duration": 0.064114,
     "end_time": "2024-03-12T00:02:03.181775",
     "exception": false,
     "start_time": "2024-03-12T00:02:03.117661",
     "status": "completed"
    },
    "tags": []
   },
   "outputs": [],
   "source": [
    "import scipy.io as sio\n",
    "import matplotlib.pyplot as plt"
   ]
  },
  {
   "cell_type": "markdown",
   "id": "8ec7ba28",
   "metadata": {
    "id": "NgJy6fAbQVZ6",
    "papermill": {
     "duration": 0.008439,
     "end_time": "2024-03-12T00:02:03.199222",
     "exception": false,
     "start_time": "2024-03-12T00:02:03.190783",
     "status": "completed"
    },
    "tags": []
   },
   "source": [
    "#### Load All subjects' data"
   ]
  },
  {
   "cell_type": "code",
   "execution_count": 3,
   "id": "9ddce7ff",
   "metadata": {
    "execution": {
     "iopub.execute_input": "2024-03-12T00:02:03.218051Z",
     "iopub.status.busy": "2024-03-12T00:02:03.217739Z",
     "iopub.status.idle": "2024-03-12T00:03:47.287215Z",
     "shell.execute_reply": "2024-03-12T00:03:47.286197Z"
    },
    "id": "9jYFCUhTwQxK",
    "outputId": "86220268-a2a9-4d95-92f1-6440cf7ef18a",
    "papermill": {
     "duration": 104.090892,
     "end_time": "2024-03-12T00:03:47.298917",
     "exception": false,
     "start_time": "2024-03-12T00:02:03.208025",
     "status": "completed"
    },
    "tags": []
   },
   "outputs": [
    {
     "data": {
      "text/plain": [
       "dict_keys(['__header__', '__version__', '__globals__', 'eeg'])"
      ]
     },
     "execution_count": 3,
     "metadata": {},
     "output_type": "execute_result"
    }
   ],
   "source": [
    "s01 = sio.loadmat('/kaggle/input/GIGA_MI_ME/s01.mat')\n",
    "s12 = sio.loadmat('/kaggle/input/GIGA_MI_ME/s12.mat')\n",
    "s13 = sio.loadmat('/kaggle/input/GIGA_MI_ME/s13.mat')\n",
    "s03 = sio.loadmat('/kaggle/input/GIGA_MI_ME/s03.mat')\n",
    "s14 = sio.loadmat('/kaggle/input/GIGA_MI_ME/s14.mat')\n",
    "s32 = sio.loadmat('/kaggle/input/GIGA_MI_ME/s32.mat')\n",
    "s40 = sio.loadmat('/kaggle/input/GIGA_MI_ME/s40.mat')\n",
    "s41 = sio.loadmat('/kaggle/input/GIGA_MI_ME/s41.mat')\n",
    "s49 = sio.loadmat('/kaggle/input/GIGA_MI_ME/s49.mat')\n",
    "s47 = sio.loadmat('/kaggle/input/GIGA_MI_ME/s47.mat')\n",
    "#3/14:\n",
    "# s29 = sio.loadmat('/kaggle/input/GIGA_MI_ME/s29.mat')\n",
    "s30 = sio.loadmat('/kaggle/input/GIGA_MI_ME/s30.mat')\n",
    "s31 = sio.loadmat('/kaggle/input/GIGA_MI_ME/s31.mat')\n",
    "s33 = sio.loadmat('/kaggle/input/GIGA_MI_ME/s33.mat')\n",
    "# s34 = sio.loadmat('/content/drive/My Drive/eeg dataset/3:14/s34.mat') bad subject\n",
    "s35 = sio.loadmat('/kaggle/input/GIGA_MI_ME/s35.mat')\n",
    "s36 = sio.loadmat('/kaggle/input/GIGA_MI_ME/s36.mat')\n",
    "s37 = sio.loadmat('/kaggle/input/GIGA_MI_ME/s37.mat')\n",
    "s38 = sio.loadmat('/kaggle/input/GIGA_MI_ME/s38.mat')\n",
    "s39 = sio.loadmat('/kaggle/input/GIGA_MI_ME/s39.mat')\n",
    "s42 = sio.loadmat('/kaggle/input/GIGA_MI_ME/s42.mat')\n",
    "s43 = sio.loadmat('/kaggle/input/GIGA_MI_ME/s43.mat')\n",
    "s44 = sio.loadmat('/kaggle/input/GIGA_MI_ME/s44.mat')\n",
    "s45 = sio.loadmat('/kaggle/input/GIGA_MI_ME/s45.mat')\n",
    "s46 = sio.loadmat('/kaggle/input/GIGA_MI_ME/s46.mat')\n",
    "s48 = sio.loadmat('/kaggle/input/GIGA_MI_ME/s48.mat')\n",
    "s50 = sio.loadmat('/kaggle/input/GIGA_MI_ME/s50.mat')\n",
    "s51 = sio.loadmat('/kaggle/input/GIGA_MI_ME/s51.mat')\n",
    "s52 = sio.loadmat('/kaggle/input/GIGA_MI_ME/s52.mat')\n",
    "# s29 = sio.loadmat('/content/drive/My Drive/eeg dataset/03:09/s02.mat') bad subject\n",
    "s01.keys()\n"
   ]
  },
  {
   "cell_type": "code",
   "execution_count": 5,
   "id": "2bbeafab",
   "metadata": {
    "execution": {
     "iopub.execute_input": "2024-03-12T00:03:47.344490Z",
     "iopub.status.busy": "2024-03-12T00:03:47.344181Z",
     "iopub.status.idle": "2024-03-12T00:03:47.352430Z",
     "shell.execute_reply": "2024-03-12T00:03:47.351578Z"
    },
    "id": "DIoIKPXOveuR",
    "papermill": {
     "duration": 0.020213,
     "end_time": "2024-03-12T00:03:47.354393",
     "exception": false,
     "start_time": "2024-03-12T00:03:47.334180",
     "status": "completed"
    },
    "scrolled": true,
    "tags": []
   },
   "outputs": [],
   "source": [
    "dataset = []\n",
    "dataset.append(s01)\n",
    "dataset.append(s12)\n",
    "dataset.append(s13)\n",
    "dataset.append(s03)\n",
    "dataset.append(s14)\n",
    "dataset.append(s32)\n",
    "dataset.append(s40)\n",
    "dataset.append(s41)\n",
    "dataset.append(s43)\n",
    "dataset.append(s49)\n",
    "dataset.append(s47)\n",
    "# dataset.append(s29)\n",
    "dataset.append(s30)\n",
    "dataset.append(s31)\n",
    "dataset.append(s33)\n",
    "dataset.append(s35)\n",
    "dataset.append(s36)\n",
    "dataset.append(s37)\n",
    "dataset.append(s38)\n",
    "dataset.append(s39)\n",
    "dataset.append(s42)\n",
    "dataset.append(s44)\n",
    "dataset.append(s45)\n",
    "dataset.append(s46)\n",
    "dataset.append(s48)\n",
    "dataset.append(s50)\n",
    "dataset.append(s51)\n",
    "dataset.append(s52)"
   ]
  },
  {
   "cell_type": "code",
   "execution_count": 6,
   "id": "7dfcf7f6",
   "metadata": {
    "execution": {
     "iopub.execute_input": "2024-03-12T00:03:47.373260Z",
     "iopub.status.busy": "2024-03-12T00:03:47.372945Z",
     "iopub.status.idle": "2024-03-12T00:05:18.348867Z",
     "shell.execute_reply": "2024-03-12T00:05:18.347802Z"
    },
    "id": "8ZWn2h3XvN1C",
    "papermill": {
     "duration": 90.988113,
     "end_time": "2024-03-12T00:05:18.351454",
     "exception": false,
     "start_time": "2024-03-12T00:03:47.363341",
     "status": "completed"
    },
    "tags": []
   },
   "outputs": [],
   "source": [
    "#3/09:\n",
    "s02 = sio.loadmat('/kaggle/input/GIGA_MI_ME/s02.mat')\n",
    "s04 = sio.loadmat('/kaggle/input/GIGA_MI_ME/s04.mat')\n",
    "s05 = sio.loadmat('/kaggle/input/GIGA_MI_ME/s05.mat')\n",
    "s06 = sio.loadmat('/kaggle/input/GIGA_MI_ME/s06.mat')\n",
    "s07 = sio.loadmat('/kaggle/input/GIGA_MI_ME/s07.mat')\n",
    "s08 = sio.loadmat('/kaggle/input/GIGA_MI_ME/s08.mat')\n",
    "s09 = sio.loadmat('/kaggle/input/GIGA_MI_ME/s09.mat')\n",
    "s10 = sio.loadmat('/kaggle/input/GIGA_MI_ME/s10.mat')\n",
    "s11 = sio.loadmat('/kaggle/input/GIGA_MI_ME/s11.mat')\n",
    "s15 = sio.loadmat('/kaggle/input/GIGA_MI_ME/s15.mat')\n",
    "s16 = sio.loadmat('/kaggle/input/GIGA_MI_ME/s16.mat')\n",
    "s17 = sio.loadmat('/kaggle/input/GIGA_MI_ME/s17.mat')\n",
    "s18 = sio.loadmat('/kaggle/input/GIGA_MI_ME/s18.mat')\n",
    "s19 = sio.loadmat('/kaggle/input/GIGA_MI_ME/s19.mat')\n",
    "s20 = sio.loadmat('/kaggle/input/GIGA_MI_ME/s20.mat')\n",
    "s21 = sio.loadmat('/kaggle/input/GIGA_MI_ME/s21.mat')\n",
    "s22 = sio.loadmat('/kaggle/input/GIGA_MI_ME/s22.mat')\n",
    "s23 = sio.loadmat('/kaggle/input/GIGA_MI_ME/s23.mat')\n",
    "s24 = sio.loadmat('/kaggle/input/GIGA_MI_ME/s24.mat')\n",
    "s25 = sio.loadmat('/kaggle/input/GIGA_MI_ME/s25.mat')\n",
    "s26 = sio.loadmat('/kaggle/input/GIGA_MI_ME/s26.mat')\n",
    "s27 = sio.loadmat('/kaggle/input/GIGA_MI_ME/s27.mat')\n",
    "s28 = sio.loadmat('/kaggle/input/GIGA_MI_ME/s28.mat')\n"
   ]
  },
  {
   "cell_type": "code",
   "execution_count": 7,
   "id": "75ad2f26",
   "metadata": {
    "execution": {
     "iopub.execute_input": "2024-03-12T00:05:18.370993Z",
     "iopub.status.busy": "2024-03-12T00:05:18.370653Z",
     "iopub.status.idle": "2024-03-12T00:05:18.377941Z",
     "shell.execute_reply": "2024-03-12T00:05:18.377021Z"
    },
    "id": "WTzNCEnqB8h0",
    "papermill": {
     "duration": 0.019025,
     "end_time": "2024-03-12T00:05:18.379837",
     "exception": false,
     "start_time": "2024-03-12T00:05:18.360812",
     "status": "completed"
    },
    "tags": []
   },
   "outputs": [],
   "source": [
    "dataset.append(s02)\n",
    "dataset.append(s04)\n",
    "dataset.append(s05)\n",
    "dataset.append(s06)\n",
    "dataset.append(s07)\n",
    "dataset.append(s08)\n",
    "dataset.append(s09)\n",
    "dataset.append(s10)\n",
    "dataset.append(s11)\n",
    "dataset.append(s15)\n",
    "dataset.append(s16)\n",
    "dataset.append(s17)\n",
    "dataset.append(s18)\n",
    "dataset.append(s19)\n",
    "dataset.append(s20)\n",
    "dataset.append(s21)\n",
    "dataset.append(s22)\n",
    "dataset.append(s23)\n",
    "dataset.append(s24)\n",
    "dataset.append(s25)\n",
    "dataset.append(s26)\n",
    "dataset.append(s27)\n",
    "dataset.append(s28)"
   ]
  },
  {
   "cell_type": "markdown",
   "id": "04343e17",
   "metadata": {
    "id": "G3jTMzi3QIVB",
    "papermill": {
     "duration": 0.008659,
     "end_time": "2024-03-12T00:05:18.397565",
     "exception": false,
     "start_time": "2024-03-12T00:05:18.388906",
     "status": "completed"
    },
    "tags": []
   },
   "source": [
    "### Data Processing Function:"
   ]
  },
  {
   "cell_type": "code",
   "execution_count": 8,
   "id": "50a89606",
   "metadata": {
    "execution": {
     "iopub.execute_input": "2024-03-12T00:05:18.416737Z",
     "iopub.status.busy": "2024-03-12T00:05:18.416423Z",
     "iopub.status.idle": "2024-03-12T00:05:18.427674Z",
     "shell.execute_reply": "2024-03-12T00:05:18.426955Z"
    },
    "id": "xHxSRo-2zEkx",
    "papermill": {
     "duration": 0.023284,
     "end_time": "2024-03-12T00:05:18.429645",
     "exception": false,
     "start_time": "2024-03-12T00:05:18.406361",
     "status": "completed"
    },
    "tags": []
   },
   "outputs": [],
   "source": [
    "class get_data():\n",
    "\n",
    "    def __init__(self, mat_input):\n",
    "        self.mat_input = mat_input\n",
    "\n",
    "    def get_movement(self):\n",
    "        movement_left = []\n",
    "        movement_right = []\n",
    "        movement_event = []\n",
    "        sliced_left = []\n",
    "        sliced_right = []\n",
    "        index = []\n",
    "        movement_event = self.mat_input['eeg']['movement_event'][0][0][0]\n",
    "        # get raw dataset\n",
    "#         for i in range(len(self.mat_input['eeg']['movement_left'][0][0])-4):\n",
    "        for i in [9, 11, 44, 48, 18, 45, 46, 55, 6, 4, 20, 22, 30, 0, 12, 49]:\n",
    "            movement_left.append(self.mat_input['eeg']['movement_left'][0][0][i])\n",
    "            movement_right.append(self.mat_input['eeg']['movement_right'][0][0][i])\n",
    "        #get onset (starting pt) of movement_event:\n",
    "        for q in range(len(movement_event)):\n",
    "            if movement_event[q] == 1:\n",
    "                  index.append(q)\n",
    "        #slice movement_left and right to only keep actice region:\n",
    "        for x in range(len(index)):\n",
    "            temp_left = []\n",
    "            temp_right = []\n",
    "            for j in range(len(movement_left)):\n",
    "                start_index = index[x]\n",
    "                end_index = start_index + 1536 #three seconds for a period\n",
    "                temp_left.append(movement_left[j][start_index:end_index])\n",
    "                temp_right.append(movement_right[j][start_index:end_index])\n",
    "            sliced_left.append(temp_left)\n",
    "            sliced_right.append(temp_right)\n",
    "        return sliced_left, sliced_right, index, movement_left, movement_right"
   ]
  },
  {
   "cell_type": "markdown",
   "id": "df0568b1",
   "metadata": {
    "id": "oMn0Xf6kesf4",
    "papermill": {
     "duration": 0.008586,
     "end_time": "2024-03-12T00:05:18.447235",
     "exception": false,
     "start_time": "2024-03-12T00:05:18.438649",
     "status": "completed"
    },
    "tags": []
   },
   "source": [
    "### Load the data (choose one to run)"
   ]
  },
  {
   "cell_type": "code",
   "execution_count": 9,
   "id": "ef5cf5cb",
   "metadata": {
    "execution": {
     "iopub.execute_input": "2024-03-12T00:05:18.466765Z",
     "iopub.status.busy": "2024-03-12T00:05:18.466179Z",
     "iopub.status.idle": "2024-03-12T00:05:27.985794Z",
     "shell.execute_reply": "2024-03-12T00:05:27.984931Z"
    },
    "id": "Ua5r3J5k7DVu",
    "papermill": {
     "duration": 9.532075,
     "end_time": "2024-03-12T00:05:27.988251",
     "exception": false,
     "start_time": "2024-03-12T00:05:18.456176",
     "status": "completed"
    },
    "tags": []
   },
   "outputs": [],
   "source": [
    "import numpy as np\n",
    "left = []\n",
    "right = []\n",
    "for s in dataset:\n",
    "    data1 = get_data(s)\n",
    "    left1 = []\n",
    "    right1 = []\n",
    "    event1 = []\n",
    "    left1, right1, event1, img_left1, img_right1 = data1.get_movement()\n",
    "    left += left1\n",
    "    right += right1"
   ]
  },
  {
   "cell_type": "code",
   "execution_count": 10,
   "id": "63da040a",
   "metadata": {
    "execution": {
     "iopub.execute_input": "2024-03-12T00:05:28.007773Z",
     "iopub.status.busy": "2024-03-12T00:05:28.007481Z",
     "iopub.status.idle": "2024-03-12T00:05:28.106433Z",
     "shell.execute_reply": "2024-03-12T00:05:28.105494Z"
    },
    "papermill": {
     "duration": 0.110973,
     "end_time": "2024-03-12T00:05:28.108553",
     "exception": false,
     "start_time": "2024-03-12T00:05:27.997580",
     "status": "completed"
    },
    "tags": []
   },
   "outputs": [
    {
     "name": "stdout",
     "output_type": "stream",
     "text": [
      "(1000, 16, 1536)\n"
     ]
    }
   ],
   "source": [
    "leftnp = np.array(left)\n",
    "print(leftnp.shape)"
   ]
  },
  {
   "cell_type": "code",
   "execution_count": 11,
   "id": "9e800ec9",
   "metadata": {
    "execution": {
     "iopub.execute_input": "2024-03-12T00:05:28.128336Z",
     "iopub.status.busy": "2024-03-12T00:05:28.127775Z",
     "iopub.status.idle": "2024-03-12T00:05:28.131980Z",
     "shell.execute_reply": "2024-03-12T00:05:28.131008Z"
    },
    "papermill": {
     "duration": 0.016004,
     "end_time": "2024-03-12T00:05:28.133922",
     "exception": false,
     "start_time": "2024-03-12T00:05:28.117918",
     "status": "completed"
    },
    "tags": []
   },
   "outputs": [],
   "source": [
    "import matplotlib.pyplot as plt"
   ]
  },
  {
   "cell_type": "code",
   "execution_count": 12,
   "id": "2e960ba7",
   "metadata": {
    "execution": {
     "iopub.execute_input": "2024-03-12T00:05:28.152810Z",
     "iopub.status.busy": "2024-03-12T00:05:28.152536Z",
     "iopub.status.idle": "2024-03-12T00:05:28.158996Z",
     "shell.execute_reply": "2024-03-12T00:05:28.158182Z"
    },
    "id": "yV4yqhE0cLQH",
    "papermill": {
     "duration": 0.018256,
     "end_time": "2024-03-12T00:05:28.161057",
     "exception": false,
     "start_time": "2024-03-12T00:05:28.142801",
     "status": "completed"
    },
    "tags": []
   },
   "outputs": [],
   "source": [
    "def filter(input_array, window_size):\n",
    "    total = []\n",
    "    window = window_size\n",
    "    new_length = 0\n",
    "    for i in range(len(input_array)):\n",
    "        one_trail = []\n",
    "        for k in range(len(input_array[i])):\n",
    "            one_channel = []\n",
    "            for y in range(len(input_array[i][k])):\n",
    "                if y >= window:\n",
    "                    sum = input_array[i][k][y-window:y].sum()\n",
    "                    avg = sum / window\n",
    "                    one_channel.append(avg)\n",
    "            one_trail.append(one_channel)\n",
    "            new_length = len(one_channel)\n",
    "        total.append(one_trail)\n",
    "    return total, new_length\n"
   ]
  },
  {
   "cell_type": "code",
   "execution_count": 13,
   "id": "418f222c",
   "metadata": {
    "execution": {
     "iopub.execute_input": "2024-03-12T00:05:28.179851Z",
     "iopub.status.busy": "2024-03-12T00:05:28.179577Z",
     "iopub.status.idle": "2024-03-12T00:10:48.759446Z",
     "shell.execute_reply": "2024-03-12T00:10:48.758435Z"
    },
    "id": "qXfNsa9lcgNo",
    "papermill": {
     "duration": 320.592082,
     "end_time": "2024-03-12T00:10:48.761986",
     "exception": false,
     "start_time": "2024-03-12T00:05:28.169904",
     "status": "completed"
    },
    "tags": []
   },
   "outputs": [],
   "source": [
    "left, new_timesteps = filter(left, 32)\n",
    "right, new_timesteps = filter(right, 32)"
   ]
  },
  {
   "cell_type": "code",
   "execution_count": 14,
   "id": "d32b73c1",
   "metadata": {
    "execution": {
     "iopub.execute_input": "2024-03-12T00:10:48.799647Z",
     "iopub.status.busy": "2024-03-12T00:10:48.799323Z",
     "iopub.status.idle": "2024-03-12T00:10:48.804447Z",
     "shell.execute_reply": "2024-03-12T00:10:48.803599Z"
    },
    "id": "Y13f6Nq0qw4g",
    "papermill": {
     "duration": 0.016824,
     "end_time": "2024-03-12T00:10:48.806402",
     "exception": false,
     "start_time": "2024-03-12T00:10:48.789578",
     "status": "completed"
    },
    "tags": []
   },
   "outputs": [],
   "source": [
    "def reshape(input_array):\n",
    "    output_array = [] \n",
    "    for i in range(len(input_array)):\n",
    "        each_trail = []\n",
    "        before_trans = np.array(input_array[i])\n",
    "        output_array.append(before_trans.transpose())\n",
    "    return output_array"
   ]
  },
  {
   "cell_type": "code",
   "execution_count": 15,
   "id": "fdcf70a7",
   "metadata": {
    "execution": {
     "iopub.execute_input": "2024-03-12T00:10:48.825039Z",
     "iopub.status.busy": "2024-03-12T00:10:48.824770Z",
     "iopub.status.idle": "2024-03-12T00:10:53.553709Z",
     "shell.execute_reply": "2024-03-12T00:10:53.552715Z"
    },
    "id": "kjjGv8ulOh8S",
    "papermill": {
     "duration": 4.740946,
     "end_time": "2024-03-12T00:10:53.556133",
     "exception": false,
     "start_time": "2024-03-12T00:10:48.815187",
     "status": "completed"
    },
    "tags": []
   },
   "outputs": [],
   "source": [
    "right = reshape(right) #reshape array for the network\n",
    "left = reshape(left)"
   ]
  },
  {
   "cell_type": "code",
   "execution_count": 16,
   "id": "62ecbb72",
   "metadata": {
    "execution": {
     "iopub.execute_input": "2024-03-12T00:10:53.594044Z",
     "iopub.status.busy": "2024-03-12T00:10:53.593697Z",
     "iopub.status.idle": "2024-03-12T00:10:54.481604Z",
     "shell.execute_reply": "2024-03-12T00:10:54.480628Z"
    },
    "id": "UWovGQxJbUJs",
    "papermill": {
     "duration": 0.900114,
     "end_time": "2024-03-12T00:10:54.484019",
     "exception": false,
     "start_time": "2024-03-12T00:10:53.583905",
     "status": "completed"
    },
    "tags": []
   },
   "outputs": [],
   "source": [
    "from sklearn.preprocessing import StandardScaler\n",
    "def normalize(input_data):\n",
    "    output_data = []\n",
    "    for i in range(len(input_data)):\n",
    "        scaler = StandardScaler()\n",
    "        scaler.fit(input_data[i])\n",
    "        scaled_X = scaler.transform(input_data[i])\n",
    "        output_data.append(scaled_X)\n",
    "    return output_data"
   ]
  },
  {
   "cell_type": "code",
   "execution_count": 17,
   "id": "aa033ff5",
   "metadata": {
    "execution": {
     "iopub.execute_input": "2024-03-12T00:10:54.503837Z",
     "iopub.status.busy": "2024-03-12T00:10:54.503275Z",
     "iopub.status.idle": "2024-03-12T00:10:55.803499Z",
     "shell.execute_reply": "2024-03-12T00:10:55.802683Z"
    },
    "id": "yE53msmTMepw",
    "papermill": {
     "duration": 1.313003,
     "end_time": "2024-03-12T00:10:55.806360",
     "exception": false,
     "start_time": "2024-03-12T00:10:54.493357",
     "status": "completed"
    },
    "tags": []
   },
   "outputs": [],
   "source": [
    "left = normalize(left)\n",
    "right = normalize(right)"
   ]
  },
  {
   "cell_type": "code",
   "execution_count": 18,
   "id": "fd6bbac3",
   "metadata": {
    "execution": {
     "iopub.execute_input": "2024-03-12T00:10:55.826453Z",
     "iopub.status.busy": "2024-03-12T00:10:55.826099Z",
     "iopub.status.idle": "2024-03-12T00:10:55.836892Z",
     "shell.execute_reply": "2024-03-12T00:10:55.836175Z"
    },
    "id": "i2N1ulEfY_J9",
    "papermill": {
     "duration": 0.022752,
     "end_time": "2024-03-12T00:10:55.838764",
     "exception": false,
     "start_time": "2024-03-12T00:10:55.816012",
     "status": "completed"
    },
    "tags": []
   },
   "outputs": [],
   "source": [
    "label = []\n",
    "X = []\n",
    "for i in range(len(left)):\n",
    "    label.append([0]) # left - class 0\n",
    "    X.append(left[i])\n",
    "for y in range(len(right)):\n",
    "    label.append([1]) # right - class 1\n",
    "    X.append(right[y])\n",
    "\n",
    "#shuffle arrays for randomness:\n",
    "import random\n",
    "temp = list(zip(X, label))\n",
    "random.seed(1)\n",
    "random.shuffle(temp)\n",
    "X, label = zip(*temp)"
   ]
  },
  {
   "cell_type": "markdown",
   "id": "ed515447",
   "metadata": {
    "id": "MaCJYHY11vhN",
    "papermill": {
     "duration": 0.008737,
     "end_time": "2024-03-12T00:10:55.856553",
     "exception": false,
     "start_time": "2024-03-12T00:10:55.847816",
     "status": "completed"
    },
    "tags": []
   },
   "source": [
    "#### Transfer into numpy array"
   ]
  },
  {
   "cell_type": "code",
   "execution_count": 19,
   "id": "e21bdea9",
   "metadata": {
    "execution": {
     "iopub.execute_input": "2024-03-12T00:10:55.875888Z",
     "iopub.status.busy": "2024-03-12T00:10:55.875588Z",
     "iopub.status.idle": "2024-03-12T00:10:56.011719Z",
     "shell.execute_reply": "2024-03-12T00:10:56.010695Z"
    },
    "id": "VLm7sxjnvLsS",
    "papermill": {
     "duration": 0.148685,
     "end_time": "2024-03-12T00:10:56.014212",
     "exception": false,
     "start_time": "2024-03-12T00:10:55.865527",
     "status": "completed"
    },
    "tags": []
   },
   "outputs": [],
   "source": [
    "label = np.array(label)\n",
    "X = np.array(X)"
   ]
  },
  {
   "cell_type": "code",
   "execution_count": 21,
   "id": "816f1b88",
   "metadata": {
    "execution": {
     "iopub.execute_input": "2024-03-12T00:10:56.058977Z",
     "iopub.status.busy": "2024-03-12T00:10:56.058699Z",
     "iopub.status.idle": "2024-03-12T00:10:58.172998Z",
     "shell.execute_reply": "2024-03-12T00:10:58.171767Z"
    },
    "id": "FspWgjtpc9ev",
    "papermill": {
     "duration": 2.126562,
     "end_time": "2024-03-12T00:10:58.175389",
     "exception": false,
     "start_time": "2024-03-12T00:10:56.048827",
     "status": "completed"
    },
    "tags": []
   },
   "outputs": [],
   "source": [
    "import math as math\n",
    "element_num = len(X)\n",
    "train_index = element_num * 0.8 #choose 80% for training and 20% for validation\n",
    "train_index = math.floor(train_index)\n",
    "scaled_X = normalize(X) #normalize input data\n",
    "scaled_X = np.array(scaled_X)\n",
    "train_X = scaled_X[:train_index]\n",
    "train_label = label[:train_index]\n",
    "test_X = scaled_X[train_index:]\n",
    "test_label = label[train_index:]"
   ]
  },
  {
   "cell_type": "markdown",
   "id": "c203c502",
   "metadata": {
    "id": "P8uo2aw6L_mZ",
    "papermill": {
     "duration": 0.00955,
     "end_time": "2024-03-12T00:10:58.220238",
     "exception": false,
     "start_time": "2024-03-12T00:10:58.210688",
     "status": "completed"
    },
    "tags": []
   },
   "source": [
    "### Build the EEGNet model"
   ]
  },
  {
   "cell_type": "code",
   "execution_count": 23,
   "id": "39372b08",
   "metadata": {
    "execution": {
     "iopub.execute_input": "2024-03-12T00:10:58.257952Z",
     "iopub.status.busy": "2024-03-12T00:10:58.257595Z",
     "iopub.status.idle": "2024-03-12T00:41:08.731499Z",
     "shell.execute_reply": "2024-03-12T00:41:08.730372Z"
    },
    "id": "wELfDkAf-njt",
    "outputId": "3696123b-636c-482e-bd96-37bbfc94a064",
    "papermill": {
     "duration": 1810.486222,
     "end_time": "2024-03-12T00:41:08.733503",
     "exception": false,
     "start_time": "2024-03-12T00:10:58.247281",
     "status": "completed"
    },
    "tags": []
   },
   "outputs": [
    {
     "name": "stdout",
     "output_type": "stream",
     "text": [
      "Trial 20 Complete [00h 02m 14s]\n",
      "val_accuracy: 0.5975000262260437\n",
      "\n",
      "Best val_accuracy So Far: 0.6175000071525574\n",
      "Total elapsed time: 00h 30m 09s\n"
     ]
    }
   ],
   "source": [
    "from tensorflow.keras.models import Model\n",
    "from tensorflow.keras.layers import Input, Conv2D, BatchNormalization, DepthwiseConv2D, Activation, AveragePooling2D, Flatten, Dense\n",
    "from tensorflow.keras.layers import Dropout, SpatialDropout2D, SeparableConv2D\n",
    "from tensorflow.keras.constraints import max_norm\n",
    "from tensorflow.keras.optimizers import SGD\n",
    "from kerastuner.tuners import RandomSearch\n",
    "from kerastuner.engine.hyperparameters import HyperParameter as hp\n",
    "from tensorflow.keras.callbacks import EarlyStopping\n",
    "def build_eegnet_model(hp):\n",
    "    Chans = 16\n",
    "    Samples = new_timesteps\n",
    "    nb_classes = 2  # You need to specify the correct number of classes\n",
    "    dropoutRate = hp.Float('dropout_rate', min_value=0.2, max_value=0.8, step=0.1)  # 调整dropout范围\n",
    "    kernLength = hp.Choice('kern_length', values=[32, 64, 128, 256])  # 添加更大的kernel长度\n",
    "    F1 = hp.Int('F1', min_value=4, max_value=96, step=4)  # 扩大F1范围\n",
    "    D = hp.Int('D', min_value=1, max_value=8)  # 扩大D的范围\n",
    "    norm_rate = hp.Float('norm_rate', min_value=0.1, max_value=1.0, step=0.1)\n",
    "    F2 = F1 * D\n",
    "    \n",
    "    if hp.Choice('dropout_type', values=['SpatialDropout2D', 'Dropout']) == 'SpatialDropout2D':\n",
    "        dropoutType = SpatialDropout2D\n",
    "    else:\n",
    "        dropoutType = Dropout\n",
    "\n",
    "    input1 = Input(shape=(Chans, Samples, 1))\n",
    "\n",
    "    block1 = Conv2D(F1, (1, kernLength), padding='same', input_shape=(Chans, Samples, 1), use_bias=False)(input1)\n",
    "    block1 = BatchNormalization()(block1)\n",
    "    block1 = DepthwiseConv2D((Chans, 1), use_bias=False, depth_multiplier=D, depthwise_constraint=max_norm(1.))(block1)\n",
    "    block1 = BatchNormalization()(block1)\n",
    "    block1 = Activation('elu')(block1)\n",
    "    block1 = AveragePooling2D((1, 4))(block1)\n",
    "    block1 = dropoutType(dropoutRate)(block1)\n",
    "\n",
    "    block2 = SeparableConv2D(F2, (1, 16), use_bias=False, padding='same')(block1)\n",
    "    block2 = BatchNormalization()(block2)\n",
    "    block2 = Activation('elu')(block2)\n",
    "    block2 = AveragePooling2D((1, 8))(block2)\n",
    "    block2 = dropoutType(dropoutRate)(block2)\n",
    "\n",
    "    flatten = Flatten(name='flatten')(block2)\n",
    "\n",
    "    dense = Dense(nb_classes, name='dense', kernel_constraint=max_norm(norm_rate))(flatten)\n",
    "    softmax = Activation('softmax', name='softmax')(dense)\n",
    "\n",
    "    model = Model(inputs=input1, outputs=softmax)\n",
    "\n",
    "    sgd = SGD(learning_rate=hp.Float('learning_rate', min_value=1e-5, max_value=1e-2, sampling='log'))\n",
    "    \n",
    "    model.compile(loss='sparse_categorical_crossentropy', optimizer=sgd, metrics=['accuracy'])\n",
    "\n",
    "    return model\n",
    "# if the code only run once this is needed\n",
    "train_X = np.transpose(train_X, (0, 2, 1))\n",
    "train_X = np.expand_dims(train_X, axis=-1)\n",
    "test_X = np.transpose(test_X, (0, 2, 1))\n",
    "test_X = np.expand_dims(test_X, axis=-1)\n",
    "\n",
    "val_data = (test_X, test_label)\n",
    "# Instantiate the tuner\n",
    "tuner = RandomSearch(\n",
    "    build_eegnet_model,\n",
    "    objective='val_accuracy',\n",
    "    max_trials=20,\n",
    "    directory='eegnet_tuner_dir',\n",
    "    project_name='eegnet_tuning'\n",
    ")\n",
    "\n",
    "# Define early stopping callback\n",
    "early_stopping = EarlyStopping(monitor='val_loss', patience=5)\n",
    "\n",
    "# Perform the hyperparameter search\n",
    "tuner.search(train_X, train_label,\n",
    "             epochs=50,\n",
    "             validation_data=val_data,\n",
    "             callbacks=[early_stopping])\n"
   ]
  },
  {
   "cell_type": "code",
   "execution_count": 24,
   "id": "ee9222b1",
   "metadata": {
    "execution": {
     "iopub.execute_input": "2024-03-12T00:41:08.753575Z",
     "iopub.status.busy": "2024-03-12T00:41:08.753281Z",
     "iopub.status.idle": "2024-03-12T00:41:10.350328Z",
     "shell.execute_reply": "2024-03-12T00:41:10.349242Z"
    },
    "papermill": {
     "duration": 1.609527,
     "end_time": "2024-03-12T00:41:10.352646",
     "exception": false,
     "start_time": "2024-03-12T00:41:08.743119",
     "status": "completed"
    },
    "tags": []
   },
   "outputs": [
    {
     "name": "stdout",
     "output_type": "stream",
     "text": [
      "Best Hyperparameters: {'dropout_rate': 0.5, 'kern_length': 128, 'F1': 32, 'D': 1, 'norm_rate': 0.5, 'dropout_type': 'Dropout', 'learning_rate': 0.0028258126970663526}\n",
      "Best Trial ID: 12\n",
      "\u001b[1m13/13\u001b[0m \u001b[32m━━━━━━━━━━━━━━━━━━━━\u001b[0m\u001b[37m\u001b[0m \u001b[1m1s\u001b[0m 31ms/step - accuracy: 0.6175 - loss: 0.6598\n"
     ]
    }
   ],
   "source": [
    "# Get the best hyperparameters\n",
    "best_hp = tuner.oracle.get_best_trials(num_trials=1)[0].hyperparameters.values\n",
    "print(\"Best Hyperparameters:\", best_hp)\n",
    "\n",
    "best_trial = tuner.oracle.get_best_trials(num_trials=1)[0]\n",
    "\n",
    "\n",
    "print(\"Best Trial ID:\", best_trial.trial_id)\n",
    "\n",
    "# Build the final model with the best hyperparameters\n",
    "final_model = tuner.get_best_models(num_models=1)[0]\n",
    "test_accuracy = final_model.evaluate(test_X, test_label)[1]"
   ]
  }
 ],
 "metadata": {
  "accelerator": "GPU",
  "colab": {
   "provenance": []
  },
  "kaggle": {
   "accelerator": "gpu",
   "dataSources": [
    {
     "datasetId": 3008205,
     "sourceId": 5175158,
     "sourceType": "datasetVersion"
    }
   ],
   "dockerImageVersionId": 30665,
   "isGpuEnabled": true,
   "isInternetEnabled": false,
   "language": "python",
   "sourceType": "notebook"
  },
  "kernelspec": {
   "display_name": "Python 3",
   "language": "python",
   "name": "python3"
  },
  "language_info": {
   "codemirror_mode": {
    "name": "ipython",
    "version": 3
   },
   "file_extension": ".py",
   "mimetype": "text/x-python",
   "name": "python",
   "nbconvert_exporter": "python",
   "pygments_lexer": "ipython3",
   "version": "3.10.13"
  },
  "papermill": {
   "default_parameters": {},
   "duration": 2366.232253,
   "end_time": "2024-03-12T00:41:13.794956",
   "environment_variables": {},
   "exception": null,
   "input_path": "__notebook__.ipynb",
   "output_path": "__notebook__.ipynb",
   "parameters": {},
   "start_time": "2024-03-12T00:01:47.562703",
   "version": "2.5.0"
  }
 },
 "nbformat": 4,
 "nbformat_minor": 5
}
